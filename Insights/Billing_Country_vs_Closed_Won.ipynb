{
  "nbformat": 4,
  "nbformat_minor": 0,
  "metadata": {
    "colab": {
      "name": "Billing_Country_vs_Closed_Won.ipynb",
      "provenance": []
    },
    "kernelspec": {
      "name": "python3",
      "display_name": "Python 3"
    }
  },
  "cells": [
    {
      "cell_type": "code",
      "metadata": {
        "id": "GX8s2NECvfr6",
        "outputId": "73388f9a-74ed-4b04-9fc7-959e02f39bd3",
        "colab": {
          "base_uri": "https://localhost:8080/"
        }
      },
      "source": [
        "from google.colab import drive\n",
        "drive.mount('/content/drive')\n",
        "import pandas as pd\n",
        "datos = pd.read_csv(\"/content/drive/My Drive/Entrenamieto_ECI_2020.csv\")"
      ],
      "execution_count": 1,
      "outputs": [
        {
          "output_type": "stream",
          "text": [
            "Mounted at /content/drive\n"
          ],
          "name": "stdout"
        }
      ]
    },
    {
      "cell_type": "code",
      "metadata": {
        "id": "OhVrBVYjvhT1",
        "outputId": "9c3c25b3-97b2-468c-d96d-92faf32a6ad3",
        "colab": {
          "base_uri": "https://localhost:8080/"
        }
      },
      "source": [
        "datos[\"Billing_Country\"].value_counts()"
      ],
      "execution_count": 2,
      "outputs": [
        {
          "output_type": "execute_result",
          "data": {
            "text/plain": [
              "Japan                     4879\n",
              "United States             3802\n",
              "Germany                   1979\n",
              "Australia                 1169\n",
              "India                      672\n",
              "                          ... \n",
              "Kenya                        1\n",
              "Libya                        1\n",
              "Bosnia and Herzegovina       1\n",
              "Oman                         1\n",
              "Belize                       1\n",
              "Name: Billing_Country, Length: 80, dtype: int64"
            ]
          },
          "metadata": {
            "tags": []
          },
          "execution_count": 2
        }
      ]
    },
    {
      "cell_type": "code",
      "metadata": {
        "id": "XUauHHn5vsra"
      },
      "source": [
        "datos[\"Stage_int\"] = (datos[\"Stage\"] == \"Closed Won\").astype(int)\n",
        "datos[\"Billing_Country_Count\"] = datos.groupby(\"Billing_Country\")[\"Stage\"].transform(\"count\")\n",
        "datos_billing = datos.loc[datos[\"Billing_Country_Count\"] > datos[\"Billing_Country_Count\"].mean() * 0.1] #Elimino paises poco significativos que puedan sesgar\n",
        "datos_billing = datos_billing.groupby(\"Billing_Country\").agg({\"Stage_int\" : \"mean\"})"
      ],
      "execution_count": 3,
      "outputs": []
    },
    {
      "cell_type": "code",
      "metadata": {
        "id": "b2z3T3HhyZXO"
      },
      "source": [
        "import matplotlib.pyplot as plt\n",
        "import numpy as np\n",
        "from matplotlib import style"
      ],
      "execution_count": 4,
      "outputs": []
    },
    {
      "cell_type": "code",
      "metadata": {
        "id": "RO5CPfb-ztuE",
        "outputId": "11a78bdb-3688-4327-b2dc-023d5a6d344d",
        "colab": {
          "base_uri": "https://localhost:8080/",
          "height": 437
        }
      },
      "source": [
        "datos_billing.plot(kind=\"bar\",color=(0.3,0.6,0.3,1))\n",
        "plt.title(\"Billing Country vs % Exito\")\n",
        "plt.legend(\"\")\n",
        "plt.xlabel(\"Billing Country\")\n",
        "plt.ylabel(\"% Exito\")\n",
        "style.use(\"seaborn\")\n",
        "plt.show()"
      ],
      "execution_count": 6,
      "outputs": [
        {
          "output_type": "display_data",
          "data": {
            "image/png": "[encoded data removed]",
            "text/plain": [
              "<Figure size 576x396 with 1 Axes>"
            ]
          },
          "metadata": {
            "tags": []
          }
        }
      ]
    },
    {
      "cell_type": "code",
      "metadata": {
        "id": "H0QJxQ5TzzrU"
      },
      "source": [
        ""
      ],
      "execution_count": null,
      "outputs": []
    }
  ]
}