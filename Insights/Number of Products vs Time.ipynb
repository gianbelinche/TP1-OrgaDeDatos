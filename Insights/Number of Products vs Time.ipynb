{
 "cells": [
  {
   "cell_type": "code",
   "execution_count": 1,
   "metadata": {},
   "outputs": [
    {
     "output_type": "execute_result",
     "data": {
      "text/plain": [
       "       Opportunity_ID       Stage Opportunity_Created_Date\n",
       "1                   1  Closed Won               2015-12-07\n",
       "2                   2  Closed Won               2015-12-08\n",
       "7                   7  Closed Won               2015-12-09\n",
       "23                 11  Closed Won               2015-12-09\n",
       "63                 20  Closed Won               2015-12-09\n",
       "...               ...         ...                      ...\n",
       "16937           12797  Closed Won               2015-12-04\n",
       "16939           12799  Closed Won               2015-12-04\n",
       "16942           12801  Closed Won               2015-12-04\n",
       "16943           12801  Closed Won               2015-12-04\n",
       "16944           12801  Closed Won               2015-12-04\n",
       "\n",
       "[9533 rows x 3 columns]"
      ],
      "text/html": "<div>\n<style scoped>\n    .dataframe tbody tr th:only-of-type {\n        vertical-align: middle;\n    }\n\n    .dataframe tbody tr th {\n        vertical-align: top;\n    }\n\n    .dataframe thead th {\n        text-align: right;\n    }\n</style>\n<table border=\"1\" class=\"dataframe\">\n  <thead>\n    <tr style=\"text-align: right;\">\n      <th></th>\n      <th>Opportunity_ID</th>\n      <th>Stage</th>\n      <th>Opportunity_Created_Date</th>\n    </tr>\n  </thead>\n  <tbody>\n    <tr>\n      <th>1</th>\n      <td>1</td>\n      <td>Closed Won</td>\n      <td>2015-12-07</td>\n    </tr>\n    <tr>\n      <th>2</th>\n      <td>2</td>\n      <td>Closed Won</td>\n      <td>2015-12-08</td>\n    </tr>\n    <tr>\n      <th>7</th>\n      <td>7</td>\n      <td>Closed Won</td>\n      <td>2015-12-09</td>\n    </tr>\n    <tr>\n      <th>23</th>\n      <td>11</td>\n      <td>Closed Won</td>\n      <td>2015-12-09</td>\n    </tr>\n    <tr>\n      <th>63</th>\n      <td>20</td>\n      <td>Closed Won</td>\n      <td>2015-12-09</td>\n    </tr>\n    <tr>\n      <th>...</th>\n      <td>...</td>\n      <td>...</td>\n      <td>...</td>\n    </tr>\n    <tr>\n      <th>16937</th>\n      <td>12797</td>\n      <td>Closed Won</td>\n      <td>2015-12-04</td>\n    </tr>\n    <tr>\n      <th>16939</th>\n      <td>12799</td>\n      <td>Closed Won</td>\n      <td>2015-12-04</td>\n    </tr>\n    <tr>\n      <th>16942</th>\n      <td>12801</td>\n      <td>Closed Won</td>\n      <td>2015-12-04</td>\n    </tr>\n    <tr>\n      <th>16943</th>\n      <td>12801</td>\n      <td>Closed Won</td>\n      <td>2015-12-04</td>\n    </tr>\n    <tr>\n      <th>16944</th>\n      <td>12801</td>\n      <td>Closed Won</td>\n      <td>2015-12-04</td>\n    </tr>\n  </tbody>\n</table>\n<p>9533 rows × 3 columns</p>\n</div>"
     },
     "metadata": {},
     "execution_count": 1
    }
   ],
   "source": [
    "import pandas as pd\n",
    "import numpy as np\n",
    "import matplotlib.pyplot as plt\n",
    "from matplotlib import style\n",
    "\n",
    "#INTRO:\n",
    "\n",
    "#Buscamos si existe alguna relacion entre la cantidad de productos por oportunidad y el tiempo.\n",
    "# Para el analisis solo nos quedaremos con las oportunidades ganadas.\n",
    "\n",
    "\n",
    "data = pd.read_csv(\"Entrenamieto_ECI_2020.csv\")\n",
    "columns = ['Opportunity_ID', 'Stage', 'Opportunity_Created_Date']\n",
    "\n",
    "df = data.loc[data.Stage == 'Closed Won', columns]\n",
    "\n",
    "df['Opportunity_Created_Date'] = pd.to_datetime(df['Opportunity_Created_Date'], errors='coerce')\n",
    "#Chequeamos que disponemos de fechas validas.\n",
    "df['Opportunity_Created_Date'].isnull().sum()\n",
    "df"
   ]
  },
  {
   "cell_type": "code",
   "execution_count": 2,
   "metadata": {},
   "outputs": [
    {
     "output_type": "error",
     "ename": "NameError",
     "evalue": "name 'plt' is not defined",
     "traceback": [
      "\u001b[0;31m---------------------------------------------------------------------------\u001b[0m",
      "\u001b[0;31mNameError\u001b[0m                                 Traceback (most recent call last)",
      "\u001b[0;32m<ipython-input-2-bf7c1ed74c25>\u001b[0m in \u001b[0;36m<module>\u001b[0;34m\u001b[0m\n\u001b[1;32m     15\u001b[0m \u001b[0max\u001b[0m\u001b[0;34m.\u001b[0m\u001b[0mset_ylabel\u001b[0m\u001b[0;34m(\u001b[0m\u001b[0;34m'Number of products'\u001b[0m\u001b[0;34m,\u001b[0m \u001b[0mfontsize\u001b[0m \u001b[0;34m=\u001b[0m \u001b[0;36m16\u001b[0m\u001b[0;34m)\u001b[0m\u001b[0;34m\u001b[0m\u001b[0;34m\u001b[0m\u001b[0m\n\u001b[1;32m     16\u001b[0m \u001b[0;34m\u001b[0m\u001b[0m\n\u001b[0;32m---> 17\u001b[0;31m \u001b[0mplt\u001b[0m\u001b[0;34m.\u001b[0m\u001b[0mshow\u001b[0m\u001b[0;34m(\u001b[0m\u001b[0;34m)\u001b[0m\u001b[0;34m\u001b[0m\u001b[0;34m\u001b[0m\u001b[0m\n\u001b[0m",
      "\u001b[0;31mNameError\u001b[0m: name 'plt' is not defined"
     ]
    }
   ],
   "source": [
    "df['Year'] = df.Opportunity_Created_Date.dt.year.astype(int)\n",
    "df['Month'] = df.Opportunity_Created_Date.dt.month.astype(int)\n",
    "df = df.loc[df.Year >= 2016]\n",
    "df = df.groupby(['Year', 'Month', 'Opportunity_ID'])\\\n",
    "       .agg({'Stage' : 'count'})\\\n",
    "       .reset_index()\n",
    "df = df.groupby(['Year', 'Month']).agg({'Stage' : ['mean', 'count']})\n",
    "df.columns = ['Number_of_Products_mean', 'Number_of_occurrences']\n",
    "\n",
    "df = df.loc[df.Number_of_occurrences > 20, ['Number_of_Products_mean']]\n",
    "\n",
    "ax = df.plot(figsize=(16, 8))\n",
    "ax.set_title(\"Number of products mean by closed won opportunities vs time\", fontsize=18)\n",
    "ax.set_xlabel('Year and month', fontsize = 16)\n",
    "ax.set_ylabel('Number of products', fontsize = 16)\n",
    "\n",
    "plt.show()"
   ]
  },
  {
   "cell_type": "code",
   "execution_count": null,
   "metadata": {},
   "outputs": [],
   "source": [
    "#La media es bastante variante, sin embargo pareceria que en el ultimo año se desploma acercandose al valor de 1.4"
   ]
  }
 ],
 "metadata": {
  "kernelspec": {
   "display_name": "Python 3",
   "language": "python",
   "name": "python3"
  },
  "language_info": {
   "codemirror_mode": {
    "name": "ipython",
    "version": 3
   },
   "file_extension": ".py",
   "mimetype": "text/x-python",
   "name": "python",
   "nbconvert_exporter": "python",
   "pygments_lexer": "ipython3",
   "version": "3.8.3-final"
  }
 },
 "nbformat": 4,
 "nbformat_minor": 4
}