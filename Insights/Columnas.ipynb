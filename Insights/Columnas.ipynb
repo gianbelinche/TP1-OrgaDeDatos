{
  "nbformat": 4,
  "nbformat_minor": 0,
  "metadata": {
    "colab": {
      "name": "Untitled2.ipynb",
      "provenance": [],
      "collapsed_sections": []
    },
    "kernelspec": {
      "name": "python3",
      "display_name": "Python 3"
    }
  },
  "cells": [
    {
      "cell_type": "code",
      "metadata": {
        "id": "vaxh-JI1J6wk",
        "outputId": "66e8a645-9f72-43d2-c6bb-3ccc0bf9d2f3",
        "colab": {
          "base_uri": "https://localhost:8080/",
          "height": 34
        }
      },
      "source": [
        "from google.colab import drive\n",
        "drive.mount('/content/drive')"
      ],
      "execution_count": 64,
      "outputs": [
        {
          "output_type": "stream",
          "text": [
            "Drive already mounted at /content/drive; to attempt to forcibly remount, call drive.mount(\"/content/drive\", force_remount=True).\n"
          ],
          "name": "stdout"
        }
      ]
    },
    {
      "cell_type": "code",
      "metadata": {
        "id": "RJr4MCjQJjRn",
        "outputId": "be670afd-8b64-4ac5-9c4d-0697802f7096",
        "colab": {
          "base_uri": "https://localhost:8080/",
          "height": 326
        }
      },
      "source": [
        "import pandas as pd\n",
        "datos = pd.read_csv(\"/content/drive/My Drive/Colab Notebooks/Entrenamieto_ECI_2020.csv\")\n",
        "\n",
        "datos.head()"
      ],
      "execution_count": 65,
      "outputs": [
        {
          "output_type": "execute_result",
          "data": {
            "text/html": [
              "<div>\n",
              "<style scoped>\n",
              "    .dataframe tbody tr th:only-of-type {\n",
              "        vertical-align: middle;\n",
              "    }\n",
              "\n",
              "    .dataframe tbody tr th {\n",
              "        vertical-align: top;\n",
              "    }\n",
              "\n",
              "    .dataframe thead th {\n",
              "        text-align: right;\n",
              "    }\n",
              "</style>\n",
              "<table border=\"1\" class=\"dataframe\">\n",
              "  <thead>\n",
              "    <tr style=\"text-align: right;\">\n",
              "      <th></th>\n",
              "      <th>ID</th>\n",
              "      <th>Region</th>\n",
              "      <th>Territory</th>\n",
              "      <th>Pricing, Delivery_Terms_Quote_Appr</th>\n",
              "      <th>Pricing, Delivery_Terms_Approved</th>\n",
              "      <th>Bureaucratic_Code_0_Approval</th>\n",
              "      <th>Bureaucratic_Code_0_Approved</th>\n",
              "      <th>Submitted_for_Approval</th>\n",
              "      <th>Bureaucratic_Code</th>\n",
              "      <th>Account_Created_Date</th>\n",
              "      <th>Source</th>\n",
              "      <th>Billing_Country</th>\n",
              "      <th>Account_Name</th>\n",
              "      <th>Opportunity_Name</th>\n",
              "      <th>Opportunity_ID</th>\n",
              "      <th>Sales_Contract_No</th>\n",
              "      <th>Account_Owner</th>\n",
              "      <th>Opportunity_Owner</th>\n",
              "      <th>Account_Type</th>\n",
              "      <th>Opportunity_Type</th>\n",
              "      <th>Quote_Type</th>\n",
              "      <th>Delivery_Terms</th>\n",
              "      <th>Opportunity_Created_Date</th>\n",
              "      <th>Brand</th>\n",
              "      <th>Product_Type</th>\n",
              "      <th>Size</th>\n",
              "      <th>Product_Category_B</th>\n",
              "      <th>Price</th>\n",
              "      <th>Currency</th>\n",
              "      <th>Last_Activity</th>\n",
              "      <th>Quote_Expiry_Date</th>\n",
              "      <th>Last_Modified_Date</th>\n",
              "      <th>Last_Modified_By</th>\n",
              "      <th>Product_Family</th>\n",
              "      <th>Product_Name</th>\n",
              "      <th>ASP_Currency</th>\n",
              "      <th>ASP</th>\n",
              "      <th>ASP_(converted)_Currency</th>\n",
              "      <th>ASP_(converted)</th>\n",
              "      <th>Planned_Delivery_Start_Date</th>\n",
              "      <th>Planned_Delivery_End_Date</th>\n",
              "      <th>Month</th>\n",
              "      <th>Delivery_Quarter</th>\n",
              "      <th>Delivery_Year</th>\n",
              "      <th>Actual_Delivery_Date</th>\n",
              "      <th>TRF</th>\n",
              "      <th>Total_Amount_Currency</th>\n",
              "      <th>Total_Amount</th>\n",
              "      <th>Total_Taxable_Amount_Currency</th>\n",
              "      <th>Total_Taxable_Amount</th>\n",
              "      <th>Stage</th>\n",
              "      <th>Prod_Category_A</th>\n",
              "    </tr>\n",
              "  </thead>\n",
              "  <tbody>\n",
              "    <tr>\n",
              "      <th>0</th>\n",
              "      <td>27761</td>\n",
              "      <td>EMEA</td>\n",
              "      <td>None</td>\n",
              "      <td>1</td>\n",
              "      <td>1</td>\n",
              "      <td>1</td>\n",
              "      <td>1</td>\n",
              "      <td>0</td>\n",
              "      <td>Bureaucratic_Code_4</td>\n",
              "      <td>6/16/2015</td>\n",
              "      <td>None</td>\n",
              "      <td>Netherlands</td>\n",
              "      <td>Account_Name_619</td>\n",
              "      <td>Opportunity_Name_12598</td>\n",
              "      <td>0</td>\n",
              "      <td>None</td>\n",
              "      <td>Person_Name_51</td>\n",
              "      <td>Person_Name_18</td>\n",
              "      <td>Account_Type_2</td>\n",
              "      <td>Opportunity_Type_1</td>\n",
              "      <td>Non Binding</td>\n",
              "      <td>Delivery_Terms_2</td>\n",
              "      <td>12/7/2015</td>\n",
              "      <td>None</td>\n",
              "      <td>None</td>\n",
              "      <td>None</td>\n",
              "      <td>None</td>\n",
              "      <td>None</td>\n",
              "      <td>None</td>\n",
              "      <td>NaT</td>\n",
              "      <td>1/30/2016</td>\n",
              "      <td>6/13/2016</td>\n",
              "      <td>Person_Name_18</td>\n",
              "      <td>Product_Family_77</td>\n",
              "      <td>Product_Name_99</td>\n",
              "      <td>EUR</td>\n",
              "      <td>0.52</td>\n",
              "      <td>USD</td>\n",
              "      <td>0.58817</td>\n",
              "      <td>5/1/2016</td>\n",
              "      <td>6/30/2016</td>\n",
              "      <td>2016 - 5</td>\n",
              "      <td>Q2</td>\n",
              "      <td>2016</td>\n",
              "      <td>NaT</td>\n",
              "      <td>10</td>\n",
              "      <td>EUR</td>\n",
              "      <td>5272800.0</td>\n",
              "      <td>EUR</td>\n",
              "      <td>5272800.0</td>\n",
              "      <td>Closed Lost</td>\n",
              "      <td>Prod_Category_A_None</td>\n",
              "    </tr>\n",
              "    <tr>\n",
              "      <th>1</th>\n",
              "      <td>27760</td>\n",
              "      <td>EMEA</td>\n",
              "      <td>None</td>\n",
              "      <td>0</td>\n",
              "      <td>0</td>\n",
              "      <td>0</td>\n",
              "      <td>0</td>\n",
              "      <td>0</td>\n",
              "      <td>Bureaucratic_Code_4</td>\n",
              "      <td>6/16/2015</td>\n",
              "      <td>None</td>\n",
              "      <td>Netherlands</td>\n",
              "      <td>Account_Name_619</td>\n",
              "      <td>Opportunity_Name_12600</td>\n",
              "      <td>1</td>\n",
              "      <td>39</td>\n",
              "      <td>Person_Name_51</td>\n",
              "      <td>Person_Name_20</td>\n",
              "      <td>Account_Type_2</td>\n",
              "      <td>Opportunity_Type_1</td>\n",
              "      <td>Non Binding</td>\n",
              "      <td>Delivery_Terms_2</td>\n",
              "      <td>12/7/2015</td>\n",
              "      <td>None</td>\n",
              "      <td>None</td>\n",
              "      <td>None</td>\n",
              "      <td>None</td>\n",
              "      <td>None</td>\n",
              "      <td>None</td>\n",
              "      <td>NaT</td>\n",
              "      <td>1/20/2016</td>\n",
              "      <td>1/15/2016</td>\n",
              "      <td>Person_Name_20</td>\n",
              "      <td>Product_Family_77</td>\n",
              "      <td>Product_Name_100</td>\n",
              "      <td>EUR</td>\n",
              "      <td>0.53</td>\n",
              "      <td>USD</td>\n",
              "      <td>0.59948</td>\n",
              "      <td>1/18/2016</td>\n",
              "      <td>1/20/2016</td>\n",
              "      <td>2016 - 1</td>\n",
              "      <td>Q1</td>\n",
              "      <td>2016</td>\n",
              "      <td>NaT</td>\n",
              "      <td>0</td>\n",
              "      <td>EUR</td>\n",
              "      <td>48230.0</td>\n",
              "      <td>EUR</td>\n",
              "      <td>48230.0</td>\n",
              "      <td>Closed Won</td>\n",
              "      <td>Prod_Category_A_None</td>\n",
              "    </tr>\n",
              "    <tr>\n",
              "      <th>2</th>\n",
              "      <td>27446</td>\n",
              "      <td>Americas</td>\n",
              "      <td>NW America</td>\n",
              "      <td>0</td>\n",
              "      <td>0</td>\n",
              "      <td>0</td>\n",
              "      <td>0</td>\n",
              "      <td>0</td>\n",
              "      <td>Bureaucratic_Code_4</td>\n",
              "      <td>4/21/2015</td>\n",
              "      <td>Source_7</td>\n",
              "      <td>United States</td>\n",
              "      <td>Account_Name_1794</td>\n",
              "      <td>Opportunity_Name_469</td>\n",
              "      <td>2</td>\n",
              "      <td>760</td>\n",
              "      <td>Person_Name_64</td>\n",
              "      <td>Person_Name_8</td>\n",
              "      <td>Account_Type_5</td>\n",
              "      <td>Opportunity_Type_1</td>\n",
              "      <td>Non Binding</td>\n",
              "      <td>Delivery_Terms_4</td>\n",
              "      <td>12/8/2015</td>\n",
              "      <td>None</td>\n",
              "      <td>None</td>\n",
              "      <td>None</td>\n",
              "      <td>None</td>\n",
              "      <td>None</td>\n",
              "      <td>None</td>\n",
              "      <td>NaT</td>\n",
              "      <td>9/30/2016</td>\n",
              "      <td>9/29/2016</td>\n",
              "      <td>Person_Name_8</td>\n",
              "      <td>Product_Family_81</td>\n",
              "      <td>Product_Name_91</td>\n",
              "      <td>USD</td>\n",
              "      <td>0.48</td>\n",
              "      <td>USD</td>\n",
              "      <td>0.48000</td>\n",
              "      <td>1/25/2016</td>\n",
              "      <td>1/25/2016</td>\n",
              "      <td>2016 - 1</td>\n",
              "      <td>Q1</td>\n",
              "      <td>2016</td>\n",
              "      <td>NaT</td>\n",
              "      <td>0</td>\n",
              "      <td>USD</td>\n",
              "      <td>83865.6</td>\n",
              "      <td>USD</td>\n",
              "      <td>83865.6</td>\n",
              "      <td>Closed Won</td>\n",
              "      <td>Prod_Category_A_None</td>\n",
              "    </tr>\n",
              "    <tr>\n",
              "      <th>3</th>\n",
              "      <td>16808</td>\n",
              "      <td>Americas</td>\n",
              "      <td>NW America</td>\n",
              "      <td>1</td>\n",
              "      <td>0</td>\n",
              "      <td>1</td>\n",
              "      <td>0</td>\n",
              "      <td>0</td>\n",
              "      <td>Bureaucratic_Code_5</td>\n",
              "      <td>7/27/2013</td>\n",
              "      <td>Source_11</td>\n",
              "      <td>United States</td>\n",
              "      <td>Account_Name_1201</td>\n",
              "      <td>Opportunity_Name_415</td>\n",
              "      <td>3</td>\n",
              "      <td>None</td>\n",
              "      <td>Person_Name_8</td>\n",
              "      <td>Person_Name_8</td>\n",
              "      <td>Account_Type_5</td>\n",
              "      <td>Opportunity_Type_19</td>\n",
              "      <td>Non Binding</td>\n",
              "      <td>Delivery_Terms_1</td>\n",
              "      <td>12/8/2015</td>\n",
              "      <td>Other</td>\n",
              "      <td>Product_Type_0</td>\n",
              "      <td>Size_4</td>\n",
              "      <td>Product_Category_B_16</td>\n",
              "      <td>0.42</td>\n",
              "      <td>USD</td>\n",
              "      <td>NaT</td>\n",
              "      <td>NaT</td>\n",
              "      <td>3/27/2018</td>\n",
              "      <td>Person_Name_8</td>\n",
              "      <td>Product_Family_209</td>\n",
              "      <td>Product_Name_432</td>\n",
              "      <td>USD</td>\n",
              "      <td>0.53</td>\n",
              "      <td>USD</td>\n",
              "      <td>0.53000</td>\n",
              "      <td>2/1/2018</td>\n",
              "      <td>3/31/2018</td>\n",
              "      <td>2018 - 2</td>\n",
              "      <td>Q1</td>\n",
              "      <td>2018</td>\n",
              "      <td>NaT</td>\n",
              "      <td>14</td>\n",
              "      <td>USD</td>\n",
              "      <td>7421881.5</td>\n",
              "      <td>USD</td>\n",
              "      <td>7421881.5</td>\n",
              "      <td>Closed Lost</td>\n",
              "      <td>Prod_Category_A_None</td>\n",
              "    </tr>\n",
              "    <tr>\n",
              "      <th>4</th>\n",
              "      <td>16805</td>\n",
              "      <td>Americas</td>\n",
              "      <td>NW America</td>\n",
              "      <td>1</td>\n",
              "      <td>0</td>\n",
              "      <td>1</td>\n",
              "      <td>0</td>\n",
              "      <td>0</td>\n",
              "      <td>Bureaucratic_Code_5</td>\n",
              "      <td>7/27/2013</td>\n",
              "      <td>Source_11</td>\n",
              "      <td>United States</td>\n",
              "      <td>Account_Name_1201</td>\n",
              "      <td>Opportunity_Name_851</td>\n",
              "      <td>4</td>\n",
              "      <td>None</td>\n",
              "      <td>Person_Name_8</td>\n",
              "      <td>Person_Name_8</td>\n",
              "      <td>Account_Type_5</td>\n",
              "      <td>Opportunity_Type_19</td>\n",
              "      <td>Non Binding</td>\n",
              "      <td>Delivery_Terms_1</td>\n",
              "      <td>12/8/2015</td>\n",
              "      <td>Other</td>\n",
              "      <td>Product_Type_0</td>\n",
              "      <td>Size_4</td>\n",
              "      <td>Product_Category_B_16</td>\n",
              "      <td>0.42</td>\n",
              "      <td>USD</td>\n",
              "      <td>NaT</td>\n",
              "      <td>6/2/2017</td>\n",
              "      <td>3/27/2018</td>\n",
              "      <td>Person_Name_8</td>\n",
              "      <td>Product_Family_209</td>\n",
              "      <td>Product_Name_432</td>\n",
              "      <td>USD</td>\n",
              "      <td>0.53</td>\n",
              "      <td>USD</td>\n",
              "      <td>0.53000</td>\n",
              "      <td>2/1/2018</td>\n",
              "      <td>2/28/2018</td>\n",
              "      <td>2018 - 2</td>\n",
              "      <td>Q1</td>\n",
              "      <td>2018</td>\n",
              "      <td>NaT</td>\n",
              "      <td>25</td>\n",
              "      <td>USD</td>\n",
              "      <td>13357192.5</td>\n",
              "      <td>USD</td>\n",
              "      <td>13357192.5</td>\n",
              "      <td>Closed Lost</td>\n",
              "      <td>Prod_Category_A_None</td>\n",
              "    </tr>\n",
              "  </tbody>\n",
              "</table>\n",
              "</div>"
            ],
            "text/plain": [
              "      ID    Region  ...        Stage       Prod_Category_A\n",
              "0  27761      EMEA  ...  Closed Lost  Prod_Category_A_None\n",
              "1  27760      EMEA  ...   Closed Won  Prod_Category_A_None\n",
              "2  27446  Americas  ...   Closed Won  Prod_Category_A_None\n",
              "3  16808  Americas  ...  Closed Lost  Prod_Category_A_None\n",
              "4  16805  Americas  ...  Closed Lost  Prod_Category_A_None\n",
              "\n",
              "[5 rows x 52 columns]"
            ]
          },
          "metadata": {
            "tags": []
          },
          "execution_count": 65
        }
      ]
    },
    {
      "cell_type": "code",
      "metadata": {
        "id": "6fpgRQgNMnHy",
        "outputId": "aeb093a9-d5bb-4653-f9c6-64623dc5ae97",
        "colab": {
          "base_uri": "https://localhost:8080/",
          "height": 323
        }
      },
      "source": [
        "datos.columns"
      ],
      "execution_count": 66,
      "outputs": [
        {
          "output_type": "execute_result",
          "data": {
            "text/plain": [
              "Index(['ID', 'Region', 'Territory', 'Pricing, Delivery_Terms_Quote_Appr',\n",
              "       'Pricing, Delivery_Terms_Approved', 'Bureaucratic_Code_0_Approval',\n",
              "       'Bureaucratic_Code_0_Approved', 'Submitted_for_Approval',\n",
              "       'Bureaucratic_Code', 'Account_Created_Date', 'Source ',\n",
              "       'Billing_Country', 'Account_Name', 'Opportunity_Name', 'Opportunity_ID',\n",
              "       'Sales_Contract_No', 'Account_Owner', 'Opportunity_Owner',\n",
              "       'Account_Type', 'Opportunity_Type', 'Quote_Type', 'Delivery_Terms',\n",
              "       'Opportunity_Created_Date', 'Brand', 'Product_Type', 'Size',\n",
              "       'Product_Category_B', 'Price', 'Currency', 'Last_Activity',\n",
              "       'Quote_Expiry_Date', 'Last_Modified_Date', 'Last_Modified_By',\n",
              "       'Product_Family', 'Product_Name', 'ASP_Currency', 'ASP',\n",
              "       'ASP_(converted)_Currency', 'ASP_(converted)',\n",
              "       'Planned_Delivery_Start_Date', 'Planned_Delivery_End_Date', 'Month',\n",
              "       'Delivery_Quarter', 'Delivery_Year', 'Actual_Delivery_Date', 'TRF',\n",
              "       'Total_Amount_Currency', 'Total_Amount',\n",
              "       'Total_Taxable_Amount_Currency', 'Total_Taxable_Amount', 'Stage',\n",
              "       'Prod_Category_A'],\n",
              "      dtype='object')"
            ]
          },
          "metadata": {
            "tags": []
          },
          "execution_count": 66
        }
      ]
    },
    {
      "cell_type": "code",
      "metadata": {
        "id": "V3mkoWw_MoHt",
        "outputId": "c914078e-821d-48f1-950f-8ca81464c583",
        "colab": {
          "base_uri": "https://localhost:8080/",
          "height": 221
        }
      },
      "source": [
        "datos['ID']"
      ],
      "execution_count": 67,
      "outputs": [
        {
          "output_type": "execute_result",
          "data": {
            "text/plain": [
              "0        27761\n",
              "1        27760\n",
              "2        27446\n",
              "3        16808\n",
              "4        16805\n",
              "         ...  \n",
              "16942     8781\n",
              "16943     8786\n",
              "16944     8792\n",
              "16945    28561\n",
              "16946    28318\n",
              "Name: ID, Length: 16947, dtype: int64"
            ]
          },
          "metadata": {
            "tags": []
          },
          "execution_count": 67
        }
      ]
    },
    {
      "cell_type": "code",
      "metadata": {
        "id": "YTRpVERRSp-Q",
        "outputId": "00e107de-792a-4456-c133-5c69e883c8b4",
        "colab": {
          "base_uri": "https://localhost:8080/",
          "height": 221
        }
      },
      "source": [
        "datos['ID'].value_counts()"
      ],
      "execution_count": 68,
      "outputs": [
        {
          "output_type": "execute_result",
          "data": {
            "text/plain": [
              "6141     1\n",
              "27384    1\n",
              "21263    1\n",
              "19212    1\n",
              "25353    1\n",
              "        ..\n",
              "13676    1\n",
              "28007    1\n",
              "25958    1\n",
              "19811    1\n",
              "8196     1\n",
              "Name: ID, Length: 16947, dtype: int64"
            ]
          },
          "metadata": {
            "tags": []
          },
          "execution_count": 68
        }
      ]
    },
    {
      "cell_type": "code",
      "metadata": {
        "id": "Z3r9dLHFMoJ7",
        "outputId": "6431d4b0-e112-4c1e-c25b-dbe2d2b9af3f",
        "colab": {
          "base_uri": "https://localhost:8080/",
          "height": 221
        }
      },
      "source": [
        "datos['Region']"
      ],
      "execution_count": 69,
      "outputs": [
        {
          "output_type": "execute_result",
          "data": {
            "text/plain": [
              "0            EMEA\n",
              "1            EMEA\n",
              "2        Americas\n",
              "3        Americas\n",
              "4        Americas\n",
              "           ...   \n",
              "16942        EMEA\n",
              "16943        EMEA\n",
              "16944        EMEA\n",
              "16945    Americas\n",
              "16946    Americas\n",
              "Name: Region, Length: 16947, dtype: object"
            ]
          },
          "metadata": {
            "tags": []
          },
          "execution_count": 69
        }
      ]
    },
    {
      "cell_type": "code",
      "metadata": {
        "id": "RAhDyXRKSqdC",
        "outputId": "6a1d5c1c-6f04-4b7f-f9f4-44e3ae13930a",
        "colab": {
          "base_uri": "https://localhost:8080/",
          "height": 119
        }
      },
      "source": [
        "datos['Region'].value_counts()"
      ],
      "execution_count": 70,
      "outputs": [
        {
          "output_type": "execute_result",
          "data": {
            "text/plain": [
              "Japan          4892\n",
              "EMEA           4664\n",
              "Americas       3945\n",
              "APAC           3262\n",
              "Middle East     184\n",
              "Name: Region, dtype: int64"
            ]
          },
          "metadata": {
            "tags": []
          },
          "execution_count": 70
        }
      ]
    },
    {
      "cell_type": "code",
      "metadata": {
        "id": "EG0k2gDuMoMS",
        "outputId": "4a45dd76-e26f-401e-d182-58b66a8df549",
        "colab": {
          "base_uri": "https://localhost:8080/",
          "height": 221
        }
      },
      "source": [
        "datos['Territory']"
      ],
      "execution_count": 71,
      "outputs": [
        {
          "output_type": "execute_result",
          "data": {
            "text/plain": [
              "0              None\n",
              "1              None\n",
              "2        NW America\n",
              "3        NW America\n",
              "4        NW America\n",
              "            ...    \n",
              "16942       Austria\n",
              "16943       Austria\n",
              "16944       Austria\n",
              "16945    NE America\n",
              "16946    NE America\n",
              "Name: Territory, Length: 16947, dtype: object"
            ]
          },
          "metadata": {
            "tags": []
          },
          "execution_count": 71
        }
      ]
    },
    {
      "cell_type": "code",
      "metadata": {
        "id": "sXg6hWhiSqoA",
        "outputId": "17e7e233-725e-404a-ff90-706fb08d0428",
        "colab": {
          "base_uri": "https://localhost:8080/",
          "height": 221
        }
      },
      "source": [
        "datos['Territory'].value_counts()"
      ],
      "execution_count": 72,
      "outputs": [
        {
          "output_type": "execute_result",
          "data": {
            "text/plain": [
              "None               4999\n",
              "Germany            1682\n",
              "NW America         1568\n",
              "Australia          1208\n",
              "India               809\n",
              "                   ... \n",
              "Slovenia              1\n",
              "Burma                 1\n",
              "Solomon Islands       1\n",
              "Croatia               1\n",
              "Czech Republic        1\n",
              "Name: Territory, Length: 76, dtype: int64"
            ]
          },
          "metadata": {
            "tags": []
          },
          "execution_count": 72
        }
      ]
    },
    {
      "cell_type": "code",
      "metadata": {
        "id": "G0EeDyoiMoOX",
        "outputId": "313d861b-aa99-4573-950b-200599ba6718",
        "colab": {
          "base_uri": "https://localhost:8080/",
          "height": 221
        }
      },
      "source": [
        "datos['Pricing, Delivery_Terms_Quote_Appr']"
      ],
      "execution_count": 73,
      "outputs": [
        {
          "output_type": "execute_result",
          "data": {
            "text/plain": [
              "0        1\n",
              "1        0\n",
              "2        0\n",
              "3        1\n",
              "4        1\n",
              "        ..\n",
              "16942    1\n",
              "16943    1\n",
              "16944    1\n",
              "16945    1\n",
              "16946    1\n",
              "Name: Pricing, Delivery_Terms_Quote_Appr, Length: 16947, dtype: int64"
            ]
          },
          "metadata": {
            "tags": []
          },
          "execution_count": 73
        }
      ]
    },
    {
      "cell_type": "code",
      "metadata": {
        "id": "Y4Ks9oP1Sqwe",
        "outputId": "60fa8924-0f57-462a-d4f6-b301c0592d7a",
        "colab": {
          "base_uri": "https://localhost:8080/",
          "height": 68
        }
      },
      "source": [
        "datos['Pricing, Delivery_Terms_Quote_Appr'].value_counts()"
      ],
      "execution_count": 74,
      "outputs": [
        {
          "output_type": "execute_result",
          "data": {
            "text/plain": [
              "1    13693\n",
              "0     3254\n",
              "Name: Pricing, Delivery_Terms_Quote_Appr, dtype: int64"
            ]
          },
          "metadata": {
            "tags": []
          },
          "execution_count": 74
        }
      ]
    },
    {
      "cell_type": "code",
      "metadata": {
        "id": "kap9muNKMoQo",
        "outputId": "dea90b96-fad0-4c28-dc33-275877a44057",
        "colab": {
          "base_uri": "https://localhost:8080/",
          "height": 221
        }
      },
      "source": [
        "datos['Pricing, Delivery_Terms_Approved']"
      ],
      "execution_count": 75,
      "outputs": [
        {
          "output_type": "execute_result",
          "data": {
            "text/plain": [
              "0        1\n",
              "1        0\n",
              "2        0\n",
              "3        0\n",
              "4        0\n",
              "        ..\n",
              "16942    1\n",
              "16943    1\n",
              "16944    1\n",
              "16945    1\n",
              "16946    1\n",
              "Name: Pricing, Delivery_Terms_Approved, Length: 16947, dtype: int64"
            ]
          },
          "metadata": {
            "tags": []
          },
          "execution_count": 75
        }
      ]
    },
    {
      "cell_type": "code",
      "metadata": {
        "id": "pSHb9TcsSq4-",
        "outputId": "bc3cfeb2-9ba3-4075-e18e-fb2c9927f5e7",
        "colab": {
          "base_uri": "https://localhost:8080/",
          "height": 68
        }
      },
      "source": [
        "datos['Pricing, Delivery_Terms_Approved'].value_counts()"
      ],
      "execution_count": 76,
      "outputs": [
        {
          "output_type": "execute_result",
          "data": {
            "text/plain": [
              "1    9890\n",
              "0    7057\n",
              "Name: Pricing, Delivery_Terms_Approved, dtype: int64"
            ]
          },
          "metadata": {
            "tags": []
          },
          "execution_count": 76
        }
      ]
    },
    {
      "cell_type": "code",
      "metadata": {
        "id": "joY8Dnb8MoSg",
        "outputId": "fe7e151d-b374-4f7a-97a9-932df89bd66d",
        "colab": {
          "base_uri": "https://localhost:8080/",
          "height": 221
        }
      },
      "source": [
        "datos['Bureaucratic_Code_0_Approval']"
      ],
      "execution_count": 77,
      "outputs": [
        {
          "output_type": "execute_result",
          "data": {
            "text/plain": [
              "0        1\n",
              "1        0\n",
              "2        0\n",
              "3        1\n",
              "4        1\n",
              "        ..\n",
              "16942    1\n",
              "16943    1\n",
              "16944    1\n",
              "16945    1\n",
              "16946    1\n",
              "Name: Bureaucratic_Code_0_Approval, Length: 16947, dtype: int64"
            ]
          },
          "metadata": {
            "tags": []
          },
          "execution_count": 77
        }
      ]
    },
    {
      "cell_type": "code",
      "metadata": {
        "id": "XwFyuJJBSrBR",
        "outputId": "cc0fcb37-99ad-4f0f-8853-1af4d4600dc1",
        "colab": {
          "base_uri": "https://localhost:8080/",
          "height": 68
        }
      },
      "source": [
        "datos['Bureaucratic_Code_0_Approval'].value_counts()"
      ],
      "execution_count": 78,
      "outputs": [
        {
          "output_type": "execute_result",
          "data": {
            "text/plain": [
              "0    8889\n",
              "1    8058\n",
              "Name: Bureaucratic_Code_0_Approval, dtype: int64"
            ]
          },
          "metadata": {
            "tags": []
          },
          "execution_count": 78
        }
      ]
    },
    {
      "cell_type": "code",
      "metadata": {
        "id": "BQL6geUqMoVF",
        "outputId": "bf48b67b-0ae6-4e8b-fc0a-337893a746d4",
        "colab": {
          "base_uri": "https://localhost:8080/",
          "height": 221
        }
      },
      "source": [
        "datos['Bureaucratic_Code_0_Approved']"
      ],
      "execution_count": 79,
      "outputs": [
        {
          "output_type": "execute_result",
          "data": {
            "text/plain": [
              "0        1\n",
              "1        0\n",
              "2        0\n",
              "3        0\n",
              "4        0\n",
              "        ..\n",
              "16942    1\n",
              "16943    1\n",
              "16944    1\n",
              "16945    1\n",
              "16946    1\n",
              "Name: Bureaucratic_Code_0_Approved, Length: 16947, dtype: int64"
            ]
          },
          "metadata": {
            "tags": []
          },
          "execution_count": 79
        }
      ]
    },
    {
      "cell_type": "code",
      "metadata": {
        "id": "ckvwd6SKSrJv",
        "outputId": "225adb87-3190-4e0a-a9a5-da81197d5af6",
        "colab": {
          "base_uri": "https://localhost:8080/",
          "height": 68
        }
      },
      "source": [
        "datos['Bureaucratic_Code_0_Approved'].value_counts()"
      ],
      "execution_count": 80,
      "outputs": [
        {
          "output_type": "execute_result",
          "data": {
            "text/plain": [
              "0    11543\n",
              "1     5404\n",
              "Name: Bureaucratic_Code_0_Approved, dtype: int64"
            ]
          },
          "metadata": {
            "tags": []
          },
          "execution_count": 80
        }
      ]
    },
    {
      "cell_type": "code",
      "metadata": {
        "id": "A5-nKgxqMoXZ",
        "outputId": "a06ae01d-a1ce-43f2-8038-1ea632d75338",
        "colab": {
          "base_uri": "https://localhost:8080/",
          "height": 221
        }
      },
      "source": [
        "datos['Submitted_for_Approval']"
      ],
      "execution_count": 81,
      "outputs": [
        {
          "output_type": "execute_result",
          "data": {
            "text/plain": [
              "0        0\n",
              "1        0\n",
              "2        0\n",
              "3        0\n",
              "4        0\n",
              "        ..\n",
              "16942    0\n",
              "16943    0\n",
              "16944    0\n",
              "16945    0\n",
              "16946    0\n",
              "Name: Submitted_for_Approval, Length: 16947, dtype: int64"
            ]
          },
          "metadata": {
            "tags": []
          },
          "execution_count": 81
        }
      ]
    },
    {
      "cell_type": "code",
      "metadata": {
        "id": "oEawVitRSrRx",
        "outputId": "203e3bf1-ddfa-445c-96dd-aeaf37e44294",
        "colab": {
          "base_uri": "https://localhost:8080/",
          "height": 51
        }
      },
      "source": [
        "datos['Submitted_for_Approval'].value_counts()"
      ],
      "execution_count": 82,
      "outputs": [
        {
          "output_type": "execute_result",
          "data": {
            "text/plain": [
              "0    16947\n",
              "Name: Submitted_for_Approval, dtype: int64"
            ]
          },
          "metadata": {
            "tags": []
          },
          "execution_count": 82
        }
      ]
    },
    {
      "cell_type": "code",
      "metadata": {
        "id": "vpYqspqJMoZn",
        "outputId": "4409f2b6-7672-4ac4-9c60-4646ac42fbc9",
        "colab": {
          "base_uri": "https://localhost:8080/",
          "height": 221
        }
      },
      "source": [
        "datos['Bureaucratic_Code']"
      ],
      "execution_count": 83,
      "outputs": [
        {
          "output_type": "execute_result",
          "data": {
            "text/plain": [
              "0        Bureaucratic_Code_4\n",
              "1        Bureaucratic_Code_4\n",
              "2        Bureaucratic_Code_4\n",
              "3        Bureaucratic_Code_5\n",
              "4        Bureaucratic_Code_5\n",
              "                ...         \n",
              "16942    Bureaucratic_Code_4\n",
              "16943    Bureaucratic_Code_4\n",
              "16944    Bureaucratic_Code_4\n",
              "16945    Bureaucratic_Code_4\n",
              "16946    Bureaucratic_Code_4\n",
              "Name: Bureaucratic_Code, Length: 16947, dtype: object"
            ]
          },
          "metadata": {
            "tags": []
          },
          "execution_count": 83
        }
      ]
    },
    {
      "cell_type": "code",
      "metadata": {
        "id": "nY1u_HPBSrZG",
        "outputId": "2baf1984-3d68-4beb-a800-4215097d6f5c",
        "colab": {
          "base_uri": "https://localhost:8080/",
          "height": 153
        }
      },
      "source": [
        "datos['Bureaucratic_Code'].value_counts()"
      ],
      "execution_count": 84,
      "outputs": [
        {
          "output_type": "execute_result",
          "data": {
            "text/plain": [
              "Bureaucratic_Code_4    12587\n",
              "Bureaucratic_Code_5     3803\n",
              "Bureaucratic_Code_1      261\n",
              "Bureaucratic_Code_2      242\n",
              "Bureaucratic_Code_0       51\n",
              "Bureaucratic_Code_3        2\n",
              "Bureaucratic_Code_6        1\n",
              "Name: Bureaucratic_Code, dtype: int64"
            ]
          },
          "metadata": {
            "tags": []
          },
          "execution_count": 84
        }
      ]
    },
    {
      "cell_type": "code",
      "metadata": {
        "id": "pg8muFY_Mob3",
        "outputId": "053d4bc7-5e84-4b32-862b-fab92e7fc544",
        "colab": {
          "base_uri": "https://localhost:8080/",
          "height": 221
        }
      },
      "source": [
        "datos['Account_Created_Date']"
      ],
      "execution_count": 85,
      "outputs": [
        {
          "output_type": "execute_result",
          "data": {
            "text/plain": [
              "0         6/16/2015\n",
              "1         6/16/2015\n",
              "2         4/21/2015\n",
              "3         7/27/2013\n",
              "4         7/27/2013\n",
              "            ...    \n",
              "16942     1/15/2016\n",
              "16943     1/15/2016\n",
              "16944     1/15/2016\n",
              "16945    10/20/2015\n",
              "16946      9/3/2015\n",
              "Name: Account_Created_Date, Length: 16947, dtype: object"
            ]
          },
          "metadata": {
            "tags": []
          },
          "execution_count": 85
        }
      ]
    },
    {
      "cell_type": "code",
      "metadata": {
        "id": "SH0Vo6fzSrgR",
        "outputId": "d2df066f-3d7b-4edb-aec8-937ae447765f",
        "colab": {
          "base_uri": "https://localhost:8080/",
          "height": 221
        }
      },
      "source": [
        "datos['Account_Created_Date'].value_counts()"
      ],
      "execution_count": 86,
      "outputs": [
        {
          "output_type": "execute_result",
          "data": {
            "text/plain": [
              "4/20/2015     3011\n",
              "7/27/2013     2641\n",
              "9/23/2013      587\n",
              "9/19/2014      397\n",
              "12/21/2015     355\n",
              "              ... \n",
              "11/10/2015       1\n",
              "3/4/2015         1\n",
              "6/20/2017        1\n",
              "6/25/2018        1\n",
              "12/18/2013       1\n",
              "Name: Account_Created_Date, Length: 809, dtype: int64"
            ]
          },
          "metadata": {
            "tags": []
          },
          "execution_count": 86
        }
      ]
    },
    {
      "cell_type": "code",
      "metadata": {
        "id": "TgU4gf6JMoeX",
        "outputId": "808e447d-1c5e-476b-a413-775530770b2e",
        "colab": {
          "base_uri": "https://localhost:8080/",
          "height": 221
        }
      },
      "source": [
        "datos['Source ']"
      ],
      "execution_count": 87,
      "outputs": [
        {
          "output_type": "execute_result",
          "data": {
            "text/plain": [
              "0             None\n",
              "1             None\n",
              "2         Source_7\n",
              "3        Source_11\n",
              "4        Source_11\n",
              "           ...    \n",
              "16942     Source_7\n",
              "16943     Source_7\n",
              "16944     Source_7\n",
              "16945         None\n",
              "16946         None\n",
              "Name: Source , Length: 16947, dtype: object"
            ]
          },
          "metadata": {
            "tags": []
          },
          "execution_count": 87
        }
      ]
    },
    {
      "cell_type": "code",
      "metadata": {
        "id": "_3WjjwGzSrmK",
        "outputId": "4c193755-e31e-4fec-ea02-9534cf644f6e",
        "colab": {
          "base_uri": "https://localhost:8080/",
          "height": 272
        }
      },
      "source": [
        "datos['Source '].value_counts()"
      ],
      "execution_count": 88,
      "outputs": [
        {
          "output_type": "execute_result",
          "data": {
            "text/plain": [
              "None         9497\n",
              "Source_7     2965\n",
              "Source_9     1459\n",
              "Source_11    1421\n",
              "Source_13     786\n",
              "Source_3      418\n",
              "Source_1      137\n",
              "Source_10     106\n",
              "Source_2       86\n",
              "Source_4       43\n",
              "Source_6       19\n",
              "Source_0        7\n",
              "Source_12       2\n",
              "Source_5        1\n",
              "Name: Source , dtype: int64"
            ]
          },
          "metadata": {
            "tags": []
          },
          "execution_count": 88
        }
      ]
    },
    {
      "cell_type": "code",
      "metadata": {
        "id": "uJfgwi16Mogm",
        "outputId": "dde3c81b-014e-4312-e579-5f35982e1c2c",
        "colab": {
          "base_uri": "https://localhost:8080/",
          "height": 221
        }
      },
      "source": [
        "datos['Billing_Country']"
      ],
      "execution_count": 89,
      "outputs": [
        {
          "output_type": "execute_result",
          "data": {
            "text/plain": [
              "0          Netherlands\n",
              "1          Netherlands\n",
              "2        United States\n",
              "3        United States\n",
              "4        United States\n",
              "             ...      \n",
              "16942          Austria\n",
              "16943          Austria\n",
              "16944          Austria\n",
              "16945    United States\n",
              "16946    United States\n",
              "Name: Billing_Country, Length: 16947, dtype: object"
            ]
          },
          "metadata": {
            "tags": []
          },
          "execution_count": 89
        }
      ]
    },
    {
      "cell_type": "code",
      "metadata": {
        "id": "s0yujy_CSrsH",
        "outputId": "cddb5d69-414e-4566-c0ad-a170f51404d9",
        "colab": {
          "base_uri": "https://localhost:8080/",
          "height": 221
        }
      },
      "source": [
        "datos['Billing_Country'].value_counts()"
      ],
      "execution_count": 90,
      "outputs": [
        {
          "output_type": "execute_result",
          "data": {
            "text/plain": [
              "Japan                 4879\n",
              "United States         3802\n",
              "Germany               1979\n",
              "Australia             1169\n",
              "India                  672\n",
              "                      ... \n",
              "Chile                    1\n",
              "Ecuador                  1\n",
              "Peru                     1\n",
              "Dominican Republic       1\n",
              "Kenya                    1\n",
              "Name: Billing_Country, Length: 80, dtype: int64"
            ]
          },
          "metadata": {
            "tags": []
          },
          "execution_count": 90
        }
      ]
    },
    {
      "cell_type": "code",
      "metadata": {
        "id": "SGtc_O4BMoie",
        "outputId": "2b86739d-7bf3-4927-d907-8daf970160ed",
        "colab": {
          "base_uri": "https://localhost:8080/",
          "height": 221
        }
      },
      "source": [
        "datos['Account_Name']"
      ],
      "execution_count": 91,
      "outputs": [
        {
          "output_type": "execute_result",
          "data": {
            "text/plain": [
              "0         Account_Name_619\n",
              "1         Account_Name_619\n",
              "2        Account_Name_1794\n",
              "3        Account_Name_1201\n",
              "4        Account_Name_1201\n",
              "               ...        \n",
              "16942     Account_Name_726\n",
              "16943     Account_Name_726\n",
              "16944     Account_Name_726\n",
              "16945     Account_Name_944\n",
              "16946    Account_Name_1401\n",
              "Name: Account_Name, Length: 16947, dtype: object"
            ]
          },
          "metadata": {
            "tags": []
          },
          "execution_count": 91
        }
      ]
    },
    {
      "cell_type": "code",
      "metadata": {
        "id": "Cfbh8E9xSrxp",
        "outputId": "d017dfce-d1b7-4366-a1ed-6d1c34907230",
        "colab": {
          "base_uri": "https://localhost:8080/",
          "height": 221
        }
      },
      "source": [
        "datos['Account_Name'].value_counts()"
      ],
      "execution_count": 92,
      "outputs": [
        {
          "output_type": "execute_result",
          "data": {
            "text/plain": [
              "Account_Name_1888    2124\n",
              "Account_Name_1836     886\n",
              "Account_Name_25       752\n",
              "Account_Name_1991     586\n",
              "Account_Name_1642     397\n",
              "                     ... \n",
              "Account_Name_1854       1\n",
              "Account_Name_678        1\n",
              "Account_Name_448        1\n",
              "Account_Name_1699       1\n",
              "Account_Name_407        1\n",
              "Name: Account_Name, Length: 1635, dtype: int64"
            ]
          },
          "metadata": {
            "tags": []
          },
          "execution_count": 92
        }
      ]
    },
    {
      "cell_type": "code",
      "metadata": {
        "id": "jPvOSEITMnTr",
        "outputId": "f617b585-4418-4d84-e020-5a4d637571a9",
        "colab": {
          "base_uri": "https://localhost:8080/",
          "height": 221
        }
      },
      "source": [
        "datos['Opportunity_Name']"
      ],
      "execution_count": 93,
      "outputs": [
        {
          "output_type": "execute_result",
          "data": {
            "text/plain": [
              "0        Opportunity_Name_12598\n",
              "1        Opportunity_Name_12600\n",
              "2          Opportunity_Name_469\n",
              "3          Opportunity_Name_415\n",
              "4          Opportunity_Name_851\n",
              "                  ...          \n",
              "16942     Opportunity_Name_9245\n",
              "16943     Opportunity_Name_9245\n",
              "16944     Opportunity_Name_9245\n",
              "16945     Opportunity_Name_5843\n",
              "16946     Opportunity_Name_9911\n",
              "Name: Opportunity_Name, Length: 16947, dtype: object"
            ]
          },
          "metadata": {
            "tags": []
          },
          "execution_count": 93
        }
      ]
    },
    {
      "cell_type": "code",
      "metadata": {
        "id": "O6qsuFMRSr3G",
        "outputId": "cab1eeaa-4244-4137-d973-98a871fd3f0c",
        "colab": {
          "base_uri": "https://localhost:8080/",
          "height": 221
        }
      },
      "source": [
        "datos['Opportunity_Name'].value_counts()"
      ],
      "execution_count": 94,
      "outputs": [
        {
          "output_type": "execute_result",
          "data": {
            "text/plain": [
              "Opportunity_Name_5036     36\n",
              "Opportunity_Name_9795     36\n",
              "Opportunity_Name_11461    26\n",
              "Opportunity_Name_12179    26\n",
              "Opportunity_Name_6835     24\n",
              "                          ..\n",
              "Opportunity_Name_248       1\n",
              "Opportunity_Name_12582     1\n",
              "Opportunity_Name_3582      1\n",
              "Opportunity_Name_10095     1\n",
              "Opportunity_Name_11322     1\n",
              "Name: Opportunity_Name, Length: 9841, dtype: int64"
            ]
          },
          "metadata": {
            "tags": []
          },
          "execution_count": 94
        }
      ]
    },
    {
      "cell_type": "code",
      "metadata": {
        "id": "j2YLb_EkRmd8",
        "outputId": "082e7a32-715f-47eb-84d7-402421cd864d",
        "colab": {
          "base_uri": "https://localhost:8080/",
          "height": 221
        }
      },
      "source": [
        "datos['Opportunity_ID']"
      ],
      "execution_count": 95,
      "outputs": [
        {
          "output_type": "execute_result",
          "data": {
            "text/plain": [
              "0            0\n",
              "1            1\n",
              "2            2\n",
              "3            3\n",
              "4            4\n",
              "         ...  \n",
              "16942    12801\n",
              "16943    12801\n",
              "16944    12801\n",
              "16945    12802\n",
              "16946    12803\n",
              "Name: Opportunity_ID, Length: 16947, dtype: int64"
            ]
          },
          "metadata": {
            "tags": []
          },
          "execution_count": 95
        }
      ]
    },
    {
      "cell_type": "code",
      "metadata": {
        "id": "ULwDdBCbSr8w",
        "outputId": "275167a8-f906-4978-deb4-cb51f9d5af6c",
        "colab": {
          "base_uri": "https://localhost:8080/",
          "height": 221
        }
      },
      "source": [
        "datos['Opportunity_ID'].value_counts()"
      ],
      "execution_count": 96,
      "outputs": [
        {
          "output_type": "execute_result",
          "data": {
            "text/plain": [
              "12460    36\n",
              "2008     36\n",
              "5123     26\n",
              "6606     26\n",
              "2911     24\n",
              "         ..\n",
              "7482      1\n",
              "5435      1\n",
              "3400      1\n",
              "7498      1\n",
              "0         1\n",
              "Name: Opportunity_ID, Length: 9841, dtype: int64"
            ]
          },
          "metadata": {
            "tags": []
          },
          "execution_count": 96
        }
      ]
    },
    {
      "cell_type": "code",
      "metadata": {
        "id": "CHYKNX1XRmga",
        "outputId": "9d3f3dcf-f1a6-448b-a074-8f9dcc9e12fc",
        "colab": {
          "base_uri": "https://localhost:8080/",
          "height": 221
        }
      },
      "source": [
        "datos['Account_Type']"
      ],
      "execution_count": 97,
      "outputs": [
        {
          "output_type": "execute_result",
          "data": {
            "text/plain": [
              "0        Account_Type_2\n",
              "1        Account_Type_2\n",
              "2        Account_Type_5\n",
              "3        Account_Type_5\n",
              "4        Account_Type_5\n",
              "              ...      \n",
              "16942    Account_Type_5\n",
              "16943    Account_Type_5\n",
              "16944    Account_Type_5\n",
              "16945    Account_Type_5\n",
              "16946    Account_Type_5\n",
              "Name: Account_Type, Length: 16947, dtype: object"
            ]
          },
          "metadata": {
            "tags": []
          },
          "execution_count": 97
        }
      ]
    },
    {
      "cell_type": "code",
      "metadata": {
        "id": "Prx5v3J3SsCw",
        "outputId": "7d0a62df-783f-4075-bfeb-b5c922c5b7ed",
        "colab": {
          "base_uri": "https://localhost:8080/",
          "height": 153
        }
      },
      "source": [
        "datos['Account_Type'].value_counts()"
      ],
      "execution_count": 98,
      "outputs": [
        {
          "output_type": "execute_result",
          "data": {
            "text/plain": [
              "Account_Type_2    8832\n",
              "Account_Type_0    5868\n",
              "Account_Type_5    1943\n",
              "Account_Type_1     165\n",
              "None               112\n",
              "Account_Type_6      17\n",
              "Account_Type_4      10\n",
              "Name: Account_Type, dtype: int64"
            ]
          },
          "metadata": {
            "tags": []
          },
          "execution_count": 98
        }
      ]
    },
    {
      "cell_type": "code",
      "metadata": {
        "id": "MpF4M4pMRmiq",
        "outputId": "ad7b0103-5e51-4a89-f781-6d9374280dc5",
        "colab": {
          "base_uri": "https://localhost:8080/",
          "height": 221
        }
      },
      "source": [
        "datos['Opportunity_Type']"
      ],
      "execution_count": 99,
      "outputs": [
        {
          "output_type": "execute_result",
          "data": {
            "text/plain": [
              "0         Opportunity_Type_1\n",
              "1         Opportunity_Type_1\n",
              "2         Opportunity_Type_1\n",
              "3        Opportunity_Type_19\n",
              "4        Opportunity_Type_19\n",
              "                ...         \n",
              "16942     Opportunity_Type_1\n",
              "16943     Opportunity_Type_1\n",
              "16944     Opportunity_Type_1\n",
              "16945     Opportunity_Type_1\n",
              "16946    Opportunity_Type_19\n",
              "Name: Opportunity_Type, Length: 16947, dtype: object"
            ]
          },
          "metadata": {
            "tags": []
          },
          "execution_count": 99
        }
      ]
    },
    {
      "cell_type": "code",
      "metadata": {
        "id": "5je_YqIlSsIZ",
        "outputId": "65c9435f-f6bc-4baf-dbc2-f014ed4362e7",
        "colab": {
          "base_uri": "https://localhost:8080/",
          "height": 459
        }
      },
      "source": [
        "datos['Opportunity_Type'].value_counts()"
      ],
      "execution_count": 100,
      "outputs": [
        {
          "output_type": "execute_result",
          "data": {
            "text/plain": [
              "Opportunity_Type_1     6819\n",
              "Opportunity_Type_7     5763\n",
              "Opportunity_Type_19    1900\n",
              "Opportunity_Type_8     1458\n",
              "Opportunity_Type_12     279\n",
              "Opportunity_Type_3      275\n",
              "Opportunity_Type_20     175\n",
              "Opportunity_Type_2       70\n",
              "Opportunity_Type_4       51\n",
              "Opportunity_Type_10      34\n",
              "Opportunity_Type_9       23\n",
              "Opportunity_Type_14      15\n",
              "Opportunity_Type_5       14\n",
              "Opportunity_Type_18      11\n",
              "Opportunity_Type_22      10\n",
              "Opportunity_Type_15       9\n",
              "Opportunity_Type_17       8\n",
              "Opportunity_Type_0        8\n",
              "Opportunity_Type_21       6\n",
              "Opportunity_Type_23       5\n",
              "Opportunity_Type_13       4\n",
              "Opportunity_Type_16       4\n",
              "Opportunity_Type_11       3\n",
              "Opportunity_Type_6        2\n",
              "Opportunity_Type_24       1\n",
              "Name: Opportunity_Type, dtype: int64"
            ]
          },
          "metadata": {
            "tags": []
          },
          "execution_count": 100
        }
      ]
    },
    {
      "cell_type": "code",
      "metadata": {
        "id": "SxU4MB9UMnWh",
        "outputId": "41e9930c-9bb6-4c99-c861-cc22b71c6caf",
        "colab": {
          "base_uri": "https://localhost:8080/",
          "height": 221
        }
      },
      "source": [
        "datos['Quote_Type']"
      ],
      "execution_count": 101,
      "outputs": [
        {
          "output_type": "execute_result",
          "data": {
            "text/plain": [
              "0        Non Binding\n",
              "1        Non Binding\n",
              "2        Non Binding\n",
              "3        Non Binding\n",
              "4        Non Binding\n",
              "            ...     \n",
              "16942    Non Binding\n",
              "16943    Non Binding\n",
              "16944    Non Binding\n",
              "16945    Non Binding\n",
              "16946    Non Binding\n",
              "Name: Quote_Type, Length: 16947, dtype: object"
            ]
          },
          "metadata": {
            "tags": []
          },
          "execution_count": 101
        }
      ]
    },
    {
      "cell_type": "code",
      "metadata": {
        "id": "mikExvtZSsOW",
        "outputId": "37d7f05d-445b-4eaf-ca14-d5b4286c11be",
        "colab": {
          "base_uri": "https://localhost:8080/",
          "height": 68
        }
      },
      "source": [
        "datos['Quote_Type'].value_counts()"
      ],
      "execution_count": 102,
      "outputs": [
        {
          "output_type": "execute_result",
          "data": {
            "text/plain": [
              "Non Binding    16777\n",
              "Binding          170\n",
              "Name: Quote_Type, dtype: int64"
            ]
          },
          "metadata": {
            "tags": []
          },
          "execution_count": 102
        }
      ]
    },
    {
      "cell_type": "code",
      "metadata": {
        "id": "oIgimXSzMnb3",
        "outputId": "27a8443a-b75e-4c94-93a3-b14403c5fd4d",
        "colab": {
          "base_uri": "https://localhost:8080/",
          "height": 221
        }
      },
      "source": [
        "datos['Delivery_Terms']"
      ],
      "execution_count": 103,
      "outputs": [
        {
          "output_type": "execute_result",
          "data": {
            "text/plain": [
              "0        Delivery_Terms_2\n",
              "1        Delivery_Terms_2\n",
              "2        Delivery_Terms_4\n",
              "3        Delivery_Terms_1\n",
              "4        Delivery_Terms_1\n",
              "               ...       \n",
              "16942    Delivery_Terms_2\n",
              "16943    Delivery_Terms_2\n",
              "16944    Delivery_Terms_2\n",
              "16945    Delivery_Terms_4\n",
              "16946    Delivery_Terms_4\n",
              "Name: Delivery_Terms, Length: 16947, dtype: object"
            ]
          },
          "metadata": {
            "tags": []
          },
          "execution_count": 103
        }
      ]
    },
    {
      "cell_type": "code",
      "metadata": {
        "id": "3Ca_FEtSSsUW",
        "outputId": "fc63f421-ed04-4ff0-8b2f-25f49f691753",
        "colab": {
          "base_uri": "https://localhost:8080/",
          "height": 187
        }
      },
      "source": [
        "datos['Delivery_Terms'].value_counts()"
      ],
      "execution_count": 104,
      "outputs": [
        {
          "output_type": "execute_result",
          "data": {
            "text/plain": [
              "Delivery_Terms_4    7712\n",
              "Delivery_Terms_2    4633\n",
              "Delivery_Terms_1    2936\n",
              "Delivery_Terms_6     781\n",
              "Delivery_Terms_5     636\n",
              "Delivery_Terms_8     164\n",
              "Delivery_Terms_3      41\n",
              "Delivery_Terms_7      38\n",
              "Delivery_Terms_0       6\n",
              "Name: Delivery_Terms, dtype: int64"
            ]
          },
          "metadata": {
            "tags": []
          },
          "execution_count": 104
        }
      ]
    },
    {
      "cell_type": "code",
      "metadata": {
        "id": "IEttfLXaRs8X",
        "outputId": "0378bdc7-0551-4587-8ee2-2d622d12f068",
        "colab": {
          "base_uri": "https://localhost:8080/",
          "height": 221
        }
      },
      "source": [
        "datos['Product_Category_B']"
      ],
      "execution_count": 105,
      "outputs": [
        {
          "output_type": "execute_result",
          "data": {
            "text/plain": [
              "0                         None\n",
              "1                         None\n",
              "2                         None\n",
              "3        Product_Category_B_16\n",
              "4        Product_Category_B_16\n",
              "                 ...          \n",
              "16942                     None\n",
              "16943                     None\n",
              "16944                     None\n",
              "16945                     None\n",
              "16946                     None\n",
              "Name: Product_Category_B, Length: 16947, dtype: object"
            ]
          },
          "metadata": {
            "tags": []
          },
          "execution_count": 105
        }
      ]
    },
    {
      "cell_type": "code",
      "metadata": {
        "id": "WQ1pjVQPSsaK",
        "outputId": "a1eb13cd-295c-410c-ef39-3f9d144810a8",
        "colab": {
          "base_uri": "https://localhost:8080/",
          "height": 510
        }
      },
      "source": [
        "datos['Product_Category_B'].value_counts()"
      ],
      "execution_count": 106,
      "outputs": [
        {
          "output_type": "execute_result",
          "data": {
            "text/plain": [
              "None                     15928\n",
              "Other                      523\n",
              "Product_Category_B_2        59\n",
              "Product_Category_B_12       51\n",
              "Product_Category_B_7        47\n",
              "Product_Category_B_4        37\n",
              "Product_Category_B_5        36\n",
              "Product_Category_B_17       27\n",
              "Product_Category_B_1        24\n",
              "Product_Category_B_3        23\n",
              "Product_Category_B_8        23\n",
              "Product_Category_B_19       22\n",
              "Product_Category_B_11       21\n",
              "Product_Category_B_13       18\n",
              "Product_Category_B_9        17\n",
              "Product_Category_B_16       17\n",
              "Product_Category_B_24       16\n",
              "Product_Category_B_6         9\n",
              "Product_Category_B_20        9\n",
              "Product_Category_B_21        8\n",
              "Product_Category_B_15        8\n",
              "Product_Category_B_23        5\n",
              "Product_Category_B_14        4\n",
              "Product_Category_B_26        4\n",
              "Product_Category_B_27        3\n",
              "Product_Category_B_0         3\n",
              "Product_Category_B_10        3\n",
              "Product_Category_B_22        2\n",
              "Name: Product_Category_B, dtype: int64"
            ]
          },
          "metadata": {
            "tags": []
          },
          "execution_count": 106
        }
      ]
    },
    {
      "cell_type": "code",
      "metadata": {
        "id": "pfkHjA11Rs-t",
        "outputId": "0cff3af9-8002-4fde-8ede-a3d4b79b8849",
        "colab": {
          "base_uri": "https://localhost:8080/",
          "height": 221
        }
      },
      "source": [
        "datos['Price']"
      ],
      "execution_count": 107,
      "outputs": [
        {
          "output_type": "execute_result",
          "data": {
            "text/plain": [
              "0        None\n",
              "1        None\n",
              "2        None\n",
              "3        0.42\n",
              "4        0.42\n",
              "         ... \n",
              "16942    None\n",
              "16943    None\n",
              "16944    None\n",
              "16945    None\n",
              "16946    None\n",
              "Name: Price, Length: 16947, dtype: object"
            ]
          },
          "metadata": {
            "tags": []
          },
          "execution_count": 107
        }
      ]
    },
    {
      "cell_type": "code",
      "metadata": {
        "id": "xiJNQ4ZwSsfY",
        "outputId": "0f20bc7b-a8ba-411a-9ea4-2afed1818b9c",
        "colab": {
          "base_uri": "https://localhost:8080/",
          "height": 935
        }
      },
      "source": [
        "datos['Price'].value_counts()"
      ],
      "execution_count": 108,
      "outputs": [
        {
          "output_type": "execute_result",
          "data": {
            "text/plain": [
              "None     15982\n",
              "Other      609\n",
              "0.24        27\n",
              "0.41        22\n",
              "0.28        20\n",
              "0.27        18\n",
              "0.29        17\n",
              "0.32        15\n",
              "0.38        14\n",
              "0.35        14\n",
              "0.23        13\n",
              "0.42        12\n",
              "0.33        12\n",
              "0.3         11\n",
              "0.26        11\n",
              "0.34        11\n",
              "0.31        10\n",
              "0.245        8\n",
              "0.305        7\n",
              "0.25         7\n",
              "0.45         6\n",
              "0.325        6\n",
              "0.39         6\n",
              "0.335        6\n",
              "0.22         6\n",
              "0.225        6\n",
              "0.47         6\n",
              "0.2          5\n",
              "0.285        4\n",
              "0.445        4\n",
              "0.36         4\n",
              "0.37         4\n",
              "0.275        4\n",
              "0.295        3\n",
              "0.255        3\n",
              "0.265        3\n",
              "0.355        3\n",
              "0.4          2\n",
              "0.44         2\n",
              "0.215        2\n",
              "0.49         2\n",
              "0.48         2\n",
              "0.52         2\n",
              "0.505        2\n",
              "0.375        2\n",
              "0.235        2\n",
              "0.56         2\n",
              "0.315        2\n",
              "0.345        2\n",
              "0.55         1\n",
              "0.21         1\n",
              "0.365        1\n",
              "0.465        1\n",
              "Name: Price, dtype: int64"
            ]
          },
          "metadata": {
            "tags": []
          },
          "execution_count": 108
        }
      ]
    },
    {
      "cell_type": "code",
      "metadata": {
        "id": "ojWy-HldRtBt",
        "outputId": "5a1ba645-fd45-43db-a79d-697ef4349546",
        "colab": {
          "base_uri": "https://localhost:8080/",
          "height": 221
        }
      },
      "source": [
        "datos['Currency']"
      ],
      "execution_count": 109,
      "outputs": [
        {
          "output_type": "execute_result",
          "data": {
            "text/plain": [
              "0        None\n",
              "1        None\n",
              "2        None\n",
              "3         USD\n",
              "4         USD\n",
              "         ... \n",
              "16942    None\n",
              "16943    None\n",
              "16944    None\n",
              "16945    None\n",
              "16946    None\n",
              "Name: Currency, Length: 16947, dtype: object"
            ]
          },
          "metadata": {
            "tags": []
          },
          "execution_count": 109
        }
      ]
    },
    {
      "cell_type": "code",
      "metadata": {
        "id": "9AfaTl48SslB",
        "outputId": "b59461e6-3f70-4b41-840c-4f1c3217dc1f",
        "colab": {
          "base_uri": "https://localhost:8080/",
          "height": 85
        }
      },
      "source": [
        "datos['Currency'].value_counts()"
      ],
      "execution_count": 110,
      "outputs": [
        {
          "output_type": "execute_result",
          "data": {
            "text/plain": [
              "None    16052\n",
              "EUR       475\n",
              "USD       420\n",
              "Name: Currency, dtype: int64"
            ]
          },
          "metadata": {
            "tags": []
          },
          "execution_count": 110
        }
      ]
    },
    {
      "cell_type": "code",
      "metadata": {
        "id": "Iitkxf4ORtEY",
        "outputId": "b559c714-bd0b-4a4e-d901-932fcd96a3c4",
        "colab": {
          "base_uri": "https://localhost:8080/",
          "height": 221
        }
      },
      "source": [
        "datos['Last_Activity']"
      ],
      "execution_count": 111,
      "outputs": [
        {
          "output_type": "execute_result",
          "data": {
            "text/plain": [
              "0        NaT\n",
              "1        NaT\n",
              "2        NaT\n",
              "3        NaT\n",
              "4        NaT\n",
              "        ... \n",
              "16942    NaT\n",
              "16943    NaT\n",
              "16944    NaT\n",
              "16945    NaT\n",
              "16946    NaT\n",
              "Name: Last_Activity, Length: 16947, dtype: object"
            ]
          },
          "metadata": {
            "tags": []
          },
          "execution_count": 111
        }
      ]
    },
    {
      "cell_type": "code",
      "metadata": {
        "id": "k3Oumm_iSsq_",
        "outputId": "1eab78fe-37e5-4454-a591-62dedb89a628",
        "colab": {
          "base_uri": "https://localhost:8080/",
          "height": 51
        }
      },
      "source": [
        "datos['Last_Activity'].value_counts()"
      ],
      "execution_count": 112,
      "outputs": [
        {
          "output_type": "execute_result",
          "data": {
            "text/plain": [
              "NaT    16947\n",
              "Name: Last_Activity, dtype: int64"
            ]
          },
          "metadata": {
            "tags": []
          },
          "execution_count": 112
        }
      ]
    },
    {
      "cell_type": "code",
      "metadata": {
        "id": "xBdQ4LzTRtJ4",
        "outputId": "4bef084b-7b2e-4573-ce59-66e353ddd7e7",
        "colab": {
          "base_uri": "https://localhost:8080/",
          "height": 221
        }
      },
      "source": [
        "datos['Quote_Expiry_Date']"
      ],
      "execution_count": 113,
      "outputs": [
        {
          "output_type": "execute_result",
          "data": {
            "text/plain": [
              "0        1/30/2016\n",
              "1        1/20/2016\n",
              "2        9/30/2016\n",
              "3              NaT\n",
              "4         6/2/2017\n",
              "           ...    \n",
              "16942          NaT\n",
              "16943          NaT\n",
              "16944          NaT\n",
              "16945    2/29/2016\n",
              "16946     1/6/2016\n",
              "Name: Quote_Expiry_Date, Length: 16947, dtype: object"
            ]
          },
          "metadata": {
            "tags": []
          },
          "execution_count": 113
        }
      ]
    },
    {
      "cell_type": "code",
      "metadata": {
        "id": "1TBnbOUCSswi",
        "outputId": "6489b5cd-c519-49af-b131-79a077e43cc1",
        "colab": {
          "base_uri": "https://localhost:8080/",
          "height": 221
        }
      },
      "source": [
        "datos['Quote_Expiry_Date'].value_counts()"
      ],
      "execution_count": 114,
      "outputs": [
        {
          "output_type": "execute_result",
          "data": {
            "text/plain": [
              "NaT           4625\n",
              "6/30/2017      436\n",
              "3/31/2017      363\n",
              "9/30/2017      225\n",
              "12/31/2016     200\n",
              "              ... \n",
              "9/16/2017        1\n",
              "11/18/2015       1\n",
              "3/5/2017         1\n",
              "9/26/2018        1\n",
              "12/11/2017       1\n",
              "Name: Quote_Expiry_Date, Length: 1003, dtype: int64"
            ]
          },
          "metadata": {
            "tags": []
          },
          "execution_count": 114
        }
      ]
    },
    {
      "cell_type": "code",
      "metadata": {
        "id": "hItJe6PLR0xm",
        "outputId": "d43c9f47-5425-472d-b12c-717cb3e88a7f",
        "colab": {
          "base_uri": "https://localhost:8080/",
          "height": 221
        }
      },
      "source": [
        "datos['Last_Modified_Date']"
      ],
      "execution_count": 115,
      "outputs": [
        {
          "output_type": "execute_result",
          "data": {
            "text/plain": [
              "0        6/13/2016\n",
              "1        1/15/2016\n",
              "2        9/29/2016\n",
              "3        3/27/2018\n",
              "4        3/27/2018\n",
              "           ...    \n",
              "16942    1/19/2016\n",
              "16943    1/19/2016\n",
              "16944    1/19/2016\n",
              "16945    1/22/2016\n",
              "16946    9/28/2016\n",
              "Name: Last_Modified_Date, Length: 16947, dtype: object"
            ]
          },
          "metadata": {
            "tags": []
          },
          "execution_count": 115
        }
      ]
    },
    {
      "cell_type": "code",
      "metadata": {
        "id": "ZCTe2rzcSs2d",
        "outputId": "01ca0b6e-8264-4fd2-d318-ac9a5852e7f5",
        "colab": {
          "base_uri": "https://localhost:8080/",
          "height": 221
        }
      },
      "source": [
        "datos['Last_Modified_Date'].value_counts()"
      ],
      "execution_count": 116,
      "outputs": [
        {
          "output_type": "execute_result",
          "data": {
            "text/plain": [
              "2/8/2018      5821\n",
              "12/4/2016     2673\n",
              "9/6/2018       257\n",
              "9/26/2018      206\n",
              "6/9/2018       187\n",
              "              ... \n",
              "1/11/2018        1\n",
              "3/12/2015        1\n",
              "3/21/2017        1\n",
              "1/12/2016        1\n",
              "10/30/2017       1\n",
              "Name: Last_Modified_Date, Length: 650, dtype: int64"
            ]
          },
          "metadata": {
            "tags": []
          },
          "execution_count": 116
        }
      ]
    },
    {
      "cell_type": "code",
      "metadata": {
        "id": "vKCoHJY5R0z0",
        "outputId": "14c6a984-27ff-4516-9a0c-84c1d400d752",
        "colab": {
          "base_uri": "https://localhost:8080/",
          "height": 221
        }
      },
      "source": [
        "datos['Last_Modified_By']"
      ],
      "execution_count": 117,
      "outputs": [
        {
          "output_type": "execute_result",
          "data": {
            "text/plain": [
              "0        Person_Name_18\n",
              "1        Person_Name_20\n",
              "2         Person_Name_8\n",
              "3         Person_Name_8\n",
              "4         Person_Name_8\n",
              "              ...      \n",
              "16942    Person_Name_13\n",
              "16943    Person_Name_13\n",
              "16944    Person_Name_13\n",
              "16945     Person_Name_3\n",
              "16946     Person_Name_3\n",
              "Name: Last_Modified_By, Length: 16947, dtype: object"
            ]
          },
          "metadata": {
            "tags": []
          },
          "execution_count": 117
        }
      ]
    },
    {
      "cell_type": "code",
      "metadata": {
        "id": "x-KfwI7XSs7_",
        "outputId": "198ec714-310a-41b8-f3eb-5c748a7d48f4",
        "colab": {
          "base_uri": "https://localhost:8080/",
          "height": 969
        }
      },
      "source": [
        "datos['Last_Modified_By'].value_counts()"
      ],
      "execution_count": 118,
      "outputs": [
        {
          "output_type": "execute_result",
          "data": {
            "text/plain": [
              "Person_Name_47    8515\n",
              "Person_Name_50    1210\n",
              "Person_Name_43     587\n",
              "Person_Name_13     578\n",
              "Person_Name_8      511\n",
              "Person_Name_18     438\n",
              "Person_Name_33     429\n",
              "Person_Name_19     395\n",
              "Person_Name_3      395\n",
              "Person_Name_4      315\n",
              "Person_Name_6      259\n",
              "Person_Name_32     252\n",
              "Person_Name_16     247\n",
              "Person_Name_41     237\n",
              "Person_Name_64     232\n",
              "Person_Name_39     184\n",
              "Person_Name_46     171\n",
              "Person_Name_2      146\n",
              "Person_Name_49     138\n",
              "Person_Name_40     119\n",
              "Person_Name_66     115\n",
              "Person_Name_38     114\n",
              "Person_Name_5       95\n",
              "Person_Name_51      94\n",
              "Person_Name_62      93\n",
              "Person_Name_60      92\n",
              "Person_Name_48      90\n",
              "Person_Name_23      88\n",
              "Person_Name_44      77\n",
              "Person_Name_59      74\n",
              "Person_Name_65      74\n",
              "Person_Name_55      71\n",
              "Person_Name_54      69\n",
              "Person_Name_14      61\n",
              "Person_Name_63      52\n",
              "Person_Name_52      51\n",
              "Person_Name_45      44\n",
              "Person_Name_61      41\n",
              "Person_Name_11      37\n",
              "Person_Name_31      27\n",
              "Person_Name_20      22\n",
              "Person_Name_26      21\n",
              "Person_Name_12      15\n",
              "Person_Name_30      15\n",
              "Person_Name_25      12\n",
              "Person_Name_53      10\n",
              "Person_Name_29       6\n",
              "Person_Name_56       5\n",
              "Person_Name_1        5\n",
              "Person_Name_36       5\n",
              "Person_Name_22       5\n",
              "Person_Name_57       4\n",
              "Person_Name_58       3\n",
              "Person_Name_34       1\n",
              "Person_Name_0        1\n",
              "Name: Last_Modified_By, dtype: int64"
            ]
          },
          "metadata": {
            "tags": []
          },
          "execution_count": 118
        }
      ]
    },
    {
      "cell_type": "code",
      "metadata": {
        "id": "7JIi-jY5R02P",
        "outputId": "dfa300f5-ff13-43d6-fe94-1738a265a36a",
        "colab": {
          "base_uri": "https://localhost:8080/",
          "height": 221
        }
      },
      "source": [
        "datos['ASP_(converted)_Currency']"
      ],
      "execution_count": 119,
      "outputs": [
        {
          "output_type": "execute_result",
          "data": {
            "text/plain": [
              "0        USD\n",
              "1        USD\n",
              "2        USD\n",
              "3        USD\n",
              "4        USD\n",
              "        ... \n",
              "16942    USD\n",
              "16943    USD\n",
              "16944    USD\n",
              "16945    USD\n",
              "16946    USD\n",
              "Name: ASP_(converted)_Currency, Length: 16947, dtype: object"
            ]
          },
          "metadata": {
            "tags": []
          },
          "execution_count": 119
        }
      ]
    },
    {
      "cell_type": "code",
      "metadata": {
        "id": "SZ0_hFcPStBw",
        "outputId": "f53583c3-6c41-4b9c-d6dc-6a73dfd52b8c",
        "colab": {
          "base_uri": "https://localhost:8080/",
          "height": 51
        }
      },
      "source": [
        "datos['ASP_(converted)_Currency'].value_counts()"
      ],
      "execution_count": 120,
      "outputs": [
        {
          "output_type": "execute_result",
          "data": {
            "text/plain": [
              "USD    16947\n",
              "Name: ASP_(converted)_Currency, dtype: int64"
            ]
          },
          "metadata": {
            "tags": []
          },
          "execution_count": 120
        }
      ]
    },
    {
      "cell_type": "code",
      "metadata": {
        "id": "OBqoLJqJR04Z",
        "outputId": "2e952ff7-1dc0-4dbe-fe63-e35d6ab0d2b5",
        "colab": {
          "base_uri": "https://localhost:8080/",
          "height": 221
        }
      },
      "source": [
        "datos['ASP_(converted)']"
      ],
      "execution_count": 121,
      "outputs": [
        {
          "output_type": "execute_result",
          "data": {
            "text/plain": [
              "0        0.58817\n",
              "1        0.59948\n",
              "2        0.48000\n",
              "3        0.53000\n",
              "4        0.53000\n",
              "          ...   \n",
              "16942    0.58817\n",
              "16943    0.58817\n",
              "16944    0.58817\n",
              "16945    0.63750\n",
              "16946    0.64000\n",
              "Name: ASP_(converted), Length: 16947, dtype: float64"
            ]
          },
          "metadata": {
            "tags": []
          },
          "execution_count": 121
        }
      ]
    },
    {
      "cell_type": "code",
      "metadata": {
        "id": "cThFi9EqStHm",
        "outputId": "5feff6a9-c8f7-4bbd-cfbc-d0e0230cb89f",
        "colab": {
          "base_uri": "https://localhost:8080/",
          "height": 221
        }
      },
      "source": [
        "datos['ASP_(converted)'].value_counts()"
      ],
      "execution_count": 122,
      "outputs": [
        {
          "output_type": "execute_result",
          "data": {
            "text/plain": [
              "0.38000    570\n",
              "0.40000    497\n",
              "0.36000    326\n",
              "0.39000    325\n",
              "0.00000    300\n",
              "          ... \n",
              "0.32365      1\n",
              "0.67868      1\n",
              "0.43820      1\n",
              "0.47300      1\n",
              "0.30567      1\n",
              "Name: ASP_(converted), Length: 441, dtype: int64"
            ]
          },
          "metadata": {
            "tags": []
          },
          "execution_count": 122
        }
      ]
    },
    {
      "cell_type": "code",
      "metadata": {
        "id": "hM4cm_5iR0-P",
        "outputId": "044397fd-3b6b-49d1-841c-303e16c451f6",
        "colab": {
          "base_uri": "https://localhost:8080/",
          "height": 221
        }
      },
      "source": [
        "datos['Planned_Delivery_Start_Date']"
      ],
      "execution_count": 123,
      "outputs": [
        {
          "output_type": "execute_result",
          "data": {
            "text/plain": [
              "0         5/1/2016\n",
              "1        1/18/2016\n",
              "2        1/25/2016\n",
              "3         2/1/2018\n",
              "4         2/1/2018\n",
              "           ...    \n",
              "16942    3/21/2016\n",
              "16943     4/4/2016\n",
              "16944    3/28/2016\n",
              "16945    4/25/2016\n",
              "16946     7/1/2016\n",
              "Name: Planned_Delivery_Start_Date, Length: 16947, dtype: object"
            ]
          },
          "metadata": {
            "tags": []
          },
          "execution_count": 123
        }
      ]
    },
    {
      "cell_type": "code",
      "metadata": {
        "id": "nTDEe8GnStNO",
        "outputId": "f4165954-2049-4ec1-b2ec-699b17ca1a96",
        "colab": {
          "base_uri": "https://localhost:8080/",
          "height": 221
        }
      },
      "source": [
        "datos['Planned_Delivery_Start_Date'].value_counts()"
      ],
      "execution_count": 124,
      "outputs": [
        {
          "output_type": "execute_result",
          "data": {
            "text/plain": [
              "3/31/2016     381\n",
              "2/29/2016     273\n",
              "10/1/2018     211\n",
              "4/2/2018      207\n",
              "7/2/2018      169\n",
              "             ... \n",
              "7/30/2017       1\n",
              "4/5/2016        1\n",
              "4/3/2016        1\n",
              "2/26/2017       1\n",
              "10/21/2017      1\n",
              "Name: Planned_Delivery_Start_Date, Length: 986, dtype: int64"
            ]
          },
          "metadata": {
            "tags": []
          },
          "execution_count": 124
        }
      ]
    },
    {
      "cell_type": "code",
      "metadata": {
        "id": "v61iOV1XR1Ac",
        "outputId": "d0b1677d-bed0-42a0-c47b-b22c6dcba5ac",
        "colab": {
          "base_uri": "https://localhost:8080/",
          "height": 221
        }
      },
      "source": [
        "datos['Planned_Delivery_End_Date']"
      ],
      "execution_count": 125,
      "outputs": [
        {
          "output_type": "execute_result",
          "data": {
            "text/plain": [
              "0        6/30/2016\n",
              "1        1/20/2016\n",
              "2        1/25/2016\n",
              "3        3/31/2018\n",
              "4        2/28/2018\n",
              "           ...    \n",
              "16942    3/25/2016\n",
              "16943     4/8/2016\n",
              "16944    3/31/2016\n",
              "16945    4/29/2016\n",
              "16946    8/31/2016\n",
              "Name: Planned_Delivery_End_Date, Length: 16947, dtype: object"
            ]
          },
          "metadata": {
            "tags": []
          },
          "execution_count": 125
        }
      ]
    },
    {
      "cell_type": "code",
      "metadata": {
        "id": "Uwq6jqs-StS8",
        "outputId": "b6456892-d739-4103-d2d3-ac9de4504043",
        "colab": {
          "base_uri": "https://localhost:8080/",
          "height": 221
        }
      },
      "source": [
        "datos['Planned_Delivery_End_Date'].value_counts()"
      ],
      "execution_count": 126,
      "outputs": [
        {
          "output_type": "execute_result",
          "data": {
            "text/plain": [
              "3/31/2016     451\n",
              "6/30/2017     322\n",
              "2/29/2016     300\n",
              "9/28/2018     262\n",
              "6/29/2018     249\n",
              "             ... \n",
              "9/24/2017       1\n",
              "10/14/2020      1\n",
              "8/26/2017       1\n",
              "9/10/2019       1\n",
              "11/20/2016      1\n",
              "Name: Planned_Delivery_End_Date, Length: 1017, dtype: int64"
            ]
          },
          "metadata": {
            "tags": []
          },
          "execution_count": 126
        }
      ]
    },
    {
      "cell_type": "code",
      "metadata": {
        "id": "XMy0WfLWR1C0",
        "outputId": "a9eec6db-6068-41ec-c3d4-6f3c53d6a87a",
        "colab": {
          "base_uri": "https://localhost:8080/",
          "height": 221
        }
      },
      "source": [
        "datos['Month']"
      ],
      "execution_count": 127,
      "outputs": [
        {
          "output_type": "execute_result",
          "data": {
            "text/plain": [
              "0        2016 - 5\n",
              "1        2016 - 1\n",
              "2        2016 - 1\n",
              "3        2018 - 2\n",
              "4        2018 - 2\n",
              "           ...   \n",
              "16942    2016 - 3\n",
              "16943    2016 - 4\n",
              "16944    2016 - 3\n",
              "16945    2016 - 4\n",
              "16946    2016 - 7\n",
              "Name: Month, Length: 16947, dtype: object"
            ]
          },
          "metadata": {
            "tags": []
          },
          "execution_count": 127
        }
      ]
    },
    {
      "cell_type": "code",
      "metadata": {
        "id": "BQJIXhQpStiI",
        "outputId": "4c7d8b59-49b8-4c33-b2c1-0926945227f8",
        "colab": {
          "base_uri": "https://localhost:8080/",
          "height": 935
        }
      },
      "source": [
        "datos['Month'].value_counts()"
      ],
      "execution_count": 128,
      "outputs": [
        {
          "output_type": "execute_result",
          "data": {
            "text/plain": [
              "2018 - 10    666\n",
              "2017 - 6     643\n",
              "2017 - 10    638\n",
              "2016 - 3     628\n",
              "2017 - 7     625\n",
              "2017 - 5     586\n",
              "2018 - 4     579\n",
              "2017 - 12    574\n",
              "2018 - 6     542\n",
              "2018 - 7     536\n",
              "2017 - 8     513\n",
              "2018 - 2     498\n",
              "2017 - 9     491\n",
              "2017 - 3     487\n",
              "2017 - 4     475\n",
              "2018 - 3     467\n",
              "2018 - 1     466\n",
              "2018 - 5     461\n",
              "2018 - 11    459\n",
              "2017 - 11    450\n",
              "2017 - 1     444\n",
              "2018 - 8     440\n",
              "2016 - 2     440\n",
              "2018 - 9     406\n",
              "2017 - 2     392\n",
              "2016 - 4     383\n",
              "2016 - 11    381\n",
              "2016 - 9     380\n",
              "2016 - 10    359\n",
              "2016 - 6     352\n",
              "2016 - 5     341\n",
              "2016 - 8     313\n",
              "2018 - 12    310\n",
              "2016 - 7     306\n",
              "2016 - 12    292\n",
              "2016 - 1     196\n",
              "2019 - 1     186\n",
              "2019 - 2      58\n",
              "2019 - 3      46\n",
              "2019 - 4      44\n",
              "2019 - 7      25\n",
              "2019 - 6      25\n",
              "2019 - 10     13\n",
              "2019 - 5       8\n",
              "2020 - 1       7\n",
              "2019 - 8       5\n",
              "2020 - 4       3\n",
              "2019 - 9       2\n",
              "2020 - 3       2\n",
              "2020 - 9       1\n",
              "2020 - 6       1\n",
              "2019 - 12      1\n",
              "2019 - 11      1\n",
              "Name: Month, dtype: int64"
            ]
          },
          "metadata": {
            "tags": []
          },
          "execution_count": 128
        }
      ]
    },
    {
      "cell_type": "code",
      "metadata": {
        "id": "jNpTN4fJR1FH",
        "outputId": "ea3c3365-67bc-4925-a59f-312c90cb6e37",
        "colab": {
          "base_uri": "https://localhost:8080/",
          "height": 221
        }
      },
      "source": [
        "datos['Delivery_Quarter']"
      ],
      "execution_count": 129,
      "outputs": [
        {
          "output_type": "execute_result",
          "data": {
            "text/plain": [
              "0        Q2\n",
              "1        Q1\n",
              "2        Q1\n",
              "3        Q1\n",
              "4        Q1\n",
              "         ..\n",
              "16942    Q1\n",
              "16943    Q2\n",
              "16944    Q1\n",
              "16945    Q2\n",
              "16946    Q3\n",
              "Name: Delivery_Quarter, Length: 16947, dtype: object"
            ]
          },
          "metadata": {
            "tags": []
          },
          "execution_count": 129
        }
      ]
    },
    {
      "cell_type": "code",
      "metadata": {
        "id": "U27ezJfhStn9",
        "outputId": "7b4e0efb-e381-4911-df1d-bd1c9303394e",
        "colab": {
          "base_uri": "https://localhost:8080/",
          "height": 102
        }
      },
      "source": [
        "datos['Delivery_Quarter'].value_counts()"
      ],
      "execution_count": 130,
      "outputs": [
        {
          "output_type": "execute_result",
          "data": {
            "text/plain": [
              "Q2    4443\n",
              "Q1    4317\n",
              "Q4    4144\n",
              "Q3    4043\n",
              "Name: Delivery_Quarter, dtype: int64"
            ]
          },
          "metadata": {
            "tags": []
          },
          "execution_count": 130
        }
      ]
    },
    {
      "cell_type": "code",
      "metadata": {
        "id": "JE9LgWo8R7sq",
        "outputId": "7dbe708c-9f3f-46c3-d440-aa538cbddaa4",
        "colab": {
          "base_uri": "https://localhost:8080/",
          "height": 221
        }
      },
      "source": [
        "datos['Delivery_Year']"
      ],
      "execution_count": 131,
      "outputs": [
        {
          "output_type": "execute_result",
          "data": {
            "text/plain": [
              "0        2016\n",
              "1        2016\n",
              "2        2016\n",
              "3        2018\n",
              "4        2018\n",
              "         ... \n",
              "16942    2016\n",
              "16943    2016\n",
              "16944    2016\n",
              "16945    2016\n",
              "16946    2016\n",
              "Name: Delivery_Year, Length: 16947, dtype: int64"
            ]
          },
          "metadata": {
            "tags": []
          },
          "execution_count": 131
        }
      ]
    },
    {
      "cell_type": "code",
      "metadata": {
        "id": "NUTJsas9Svpx",
        "outputId": "05406bed-4706-4063-9910-0c6147bd783a",
        "colab": {
          "base_uri": "https://localhost:8080/",
          "height": 119
        }
      },
      "source": [
        "datos['Delivery_Year'].value_counts()"
      ],
      "execution_count": 132,
      "outputs": [
        {
          "output_type": "execute_result",
          "data": {
            "text/plain": [
              "2017    6318\n",
              "2018    5830\n",
              "2016    4371\n",
              "2019     414\n",
              "2020      14\n",
              "Name: Delivery_Year, dtype: int64"
            ]
          },
          "metadata": {
            "tags": []
          },
          "execution_count": 132
        }
      ]
    },
    {
      "cell_type": "code",
      "metadata": {
        "id": "or6Mwd1GR70f",
        "outputId": "cde743b7-1933-4836-a72d-7204db295dca",
        "colab": {
          "base_uri": "https://localhost:8080/",
          "height": 221
        }
      },
      "source": [
        "datos['Actual_Delivery_Date']"
      ],
      "execution_count": 133,
      "outputs": [
        {
          "output_type": "execute_result",
          "data": {
            "text/plain": [
              "0        NaT\n",
              "1        NaT\n",
              "2        NaT\n",
              "3        NaT\n",
              "4        NaT\n",
              "        ... \n",
              "16942    NaT\n",
              "16943    NaT\n",
              "16944    NaT\n",
              "16945    NaT\n",
              "16946    NaT\n",
              "Name: Actual_Delivery_Date, Length: 16947, dtype: object"
            ]
          },
          "metadata": {
            "tags": []
          },
          "execution_count": 133
        }
      ]
    },
    {
      "cell_type": "code",
      "metadata": {
        "id": "zhpZTwxOSvxT",
        "outputId": "d2be48b7-053b-427d-ac47-ece23570a39a",
        "colab": {
          "base_uri": "https://localhost:8080/",
          "height": 51
        }
      },
      "source": [
        "datos['Actual_Delivery_Date'].value_counts()"
      ],
      "execution_count": 134,
      "outputs": [
        {
          "output_type": "execute_result",
          "data": {
            "text/plain": [
              "NaT    16947\n",
              "Name: Actual_Delivery_Date, dtype: int64"
            ]
          },
          "metadata": {
            "tags": []
          },
          "execution_count": 134
        }
      ]
    },
    {
      "cell_type": "code",
      "metadata": {
        "id": "KX7E7KAKR-_k",
        "outputId": "1e085671-7666-4e94-812c-c3c38980d92a",
        "colab": {
          "base_uri": "https://localhost:8080/",
          "height": 221
        }
      },
      "source": [
        "datos['TRF']"
      ],
      "execution_count": 135,
      "outputs": [
        {
          "output_type": "execute_result",
          "data": {
            "text/plain": [
              "0        10\n",
              "1         0\n",
              "2         0\n",
              "3        14\n",
              "4        25\n",
              "         ..\n",
              "16942     0\n",
              "16943     0\n",
              "16944     0\n",
              "16945     4\n",
              "16946    40\n",
              "Name: TRF, Length: 16947, dtype: int64"
            ]
          },
          "metadata": {
            "tags": []
          },
          "execution_count": 135
        }
      ]
    },
    {
      "cell_type": "code",
      "metadata": {
        "id": "QeQhg-IESv2c",
        "outputId": "44745d0d-ac1d-463e-c8fa-cce9ed544ba2",
        "colab": {
          "base_uri": "https://localhost:8080/",
          "height": 221
        }
      },
      "source": [
        "datos['TRF'].value_counts()"
      ],
      "execution_count": 136,
      "outputs": [
        {
          "output_type": "execute_result",
          "data": {
            "text/plain": [
              "0      11971\n",
              "1       2192\n",
              "2        627\n",
              "3        354\n",
              "5        297\n",
              "       ...  \n",
              "51         1\n",
              "167        1\n",
              "163        1\n",
              "195        1\n",
              "165        1\n",
              "Name: TRF, Length: 101, dtype: int64"
            ]
          },
          "metadata": {
            "tags": []
          },
          "execution_count": 136
        }
      ]
    },
    {
      "cell_type": "code",
      "metadata": {
        "id": "KBufOLbWR_B8",
        "outputId": "10783805-4e39-4d34-9b9c-bd3693776387",
        "colab": {
          "base_uri": "https://localhost:8080/",
          "height": 221
        }
      },
      "source": [
        "datos['Total_Amount_Currency']"
      ],
      "execution_count": 137,
      "outputs": [
        {
          "output_type": "execute_result",
          "data": {
            "text/plain": [
              "0        EUR\n",
              "1        EUR\n",
              "2        USD\n",
              "3        USD\n",
              "4        USD\n",
              "        ... \n",
              "16942    EUR\n",
              "16943    EUR\n",
              "16944    EUR\n",
              "16945    USD\n",
              "16946    USD\n",
              "Name: Total_Amount_Currency, Length: 16947, dtype: object"
            ]
          },
          "metadata": {
            "tags": []
          },
          "execution_count": 137
        }
      ]
    },
    {
      "cell_type": "code",
      "metadata": {
        "id": "1kFtYY3-Sv8X",
        "outputId": "ece1d58d-db65-47bb-a85a-9cc18847d2a8",
        "colab": {
          "base_uri": "https://localhost:8080/",
          "height": 119
        }
      },
      "source": [
        "datos['Total_Amount_Currency'].value_counts()"
      ],
      "execution_count": 138,
      "outputs": [
        {
          "output_type": "execute_result",
          "data": {
            "text/plain": [
              "USD    7361\n",
              "JPY    4522\n",
              "EUR    4503\n",
              "AUD     556\n",
              "GBP       5\n",
              "Name: Total_Amount_Currency, dtype: int64"
            ]
          },
          "metadata": {
            "tags": []
          },
          "execution_count": 138
        }
      ]
    },
    {
      "cell_type": "code",
      "metadata": {
        "id": "K3ma4YwDR_EY",
        "outputId": "1eb1d767-50d7-40bb-f4b7-0f96f3521eee",
        "colab": {
          "base_uri": "https://localhost:8080/",
          "height": 221
        }
      },
      "source": [
        "datos['Total_Amount']"
      ],
      "execution_count": 139,
      "outputs": [
        {
          "output_type": "execute_result",
          "data": {
            "text/plain": [
              "0         5272800.00\n",
              "1           48230.00\n",
              "2           83865.60\n",
              "3         7421881.50\n",
              "4        13357192.50\n",
              "            ...     \n",
              "16942      103350.00\n",
              "16943       93015.00\n",
              "16944      103350.00\n",
              "16945     2346796.88\n",
              "16946    25603200.00\n",
              "Name: Total_Amount, Length: 16947, dtype: float64"
            ]
          },
          "metadata": {
            "tags": []
          },
          "execution_count": 139
        }
      ]
    },
    {
      "cell_type": "code",
      "metadata": {
        "id": "XGI1WCO2SwB9",
        "outputId": "43883c05-1590-4280-a8e3-b32117d38a92",
        "colab": {
          "base_uri": "https://localhost:8080/",
          "height": 221
        }
      },
      "source": [
        "datos['Total_Amount'].value_counts()"
      ],
      "execution_count": 140,
      "outputs": [
        {
          "output_type": "execute_result",
          "data": {
            "text/plain": [
              "6200.0        513\n",
              "4400.0        461\n",
              "18000.0       353\n",
              "140000.0      272\n",
              "1600.0        204\n",
              "             ... \n",
              "193600.0        1\n",
              "4972.8          1\n",
              "8001840.0       1\n",
              "12333750.0      1\n",
              "11960.0         1\n",
              "Name: Total_Amount, Length: 8872, dtype: int64"
            ]
          },
          "metadata": {
            "tags": []
          },
          "execution_count": 140
        }
      ]
    },
    {
      "cell_type": "code",
      "metadata": {
        "id": "FyjVcJkaR_GZ",
        "outputId": "f0ff3f03-e661-4db2-e7e7-5048e4adb9fc",
        "colab": {
          "base_uri": "https://localhost:8080/",
          "height": 221
        }
      },
      "source": [
        "datos['Total_Taxable_Amount_Currency']"
      ],
      "execution_count": 141,
      "outputs": [
        {
          "output_type": "execute_result",
          "data": {
            "text/plain": [
              "0        EUR\n",
              "1        EUR\n",
              "2        USD\n",
              "3        USD\n",
              "4        USD\n",
              "        ... \n",
              "16942    EUR\n",
              "16943    EUR\n",
              "16944    EUR\n",
              "16945    USD\n",
              "16946    USD\n",
              "Name: Total_Taxable_Amount_Currency, Length: 16947, dtype: object"
            ]
          },
          "metadata": {
            "tags": []
          },
          "execution_count": 141
        }
      ]
    },
    {
      "cell_type": "code",
      "metadata": {
        "id": "eHK2L7AaSwH8",
        "outputId": "4228214b-93c1-4e0c-b3a2-5d40634408b5",
        "colab": {
          "base_uri": "https://localhost:8080/",
          "height": 119
        }
      },
      "source": [
        "datos['Total_Taxable_Amount_Currency'].value_counts()"
      ],
      "execution_count": 142,
      "outputs": [
        {
          "output_type": "execute_result",
          "data": {
            "text/plain": [
              "USD    7347\n",
              "JPY    4525\n",
              "EUR    4518\n",
              "AUD     553\n",
              "GBP       4\n",
              "Name: Total_Taxable_Amount_Currency, dtype: int64"
            ]
          },
          "metadata": {
            "tags": []
          },
          "execution_count": 142
        }
      ]
    },
    {
      "cell_type": "code",
      "metadata": {
        "id": "yzAU60JvR_Iu",
        "outputId": "58daa51e-1a29-46e6-e642-5f03160d1ba3",
        "colab": {
          "base_uri": "https://localhost:8080/",
          "height": 221
        }
      },
      "source": [
        "datos['Total_Taxable_Amount']"
      ],
      "execution_count": 143,
      "outputs": [
        {
          "output_type": "execute_result",
          "data": {
            "text/plain": [
              "0         5272800.0\n",
              "1           48230.0\n",
              "2           83865.6\n",
              "3         7421881.5\n",
              "4        13357192.5\n",
              "            ...    \n",
              "16942      299715.0\n",
              "16943      299715.0\n",
              "16944      299715.0\n",
              "16945           0.0\n",
              "16946           0.0\n",
              "Name: Total_Taxable_Amount, Length: 16947, dtype: float64"
            ]
          },
          "metadata": {
            "tags": []
          },
          "execution_count": 143
        }
      ]
    },
    {
      "cell_type": "code",
      "metadata": {
        "id": "3eaxDs9rSwNd",
        "outputId": "0224e68e-6e59-4d1b-ed28-7d92453a45a2",
        "colab": {
          "base_uri": "https://localhost:8080/",
          "height": 221
        }
      },
      "source": [
        "datos['Total_Taxable_Amount'].value_counts()"
      ],
      "execution_count": 144,
      "outputs": [
        {
          "output_type": "execute_result",
          "data": {
            "text/plain": [
              "0.0           997\n",
              "588325.0       72\n",
              "109620.0       68\n",
              "488700.0       66\n",
              "413700.0       60\n",
              "             ... \n",
              "18698803.2      1\n",
              "27800800.0      1\n",
              "215.6           1\n",
              "12852000.0      1\n",
              "121837.5        1\n",
              "Name: Total_Taxable_Amount, Length: 7096, dtype: int64"
            ]
          },
          "metadata": {
            "tags": []
          },
          "execution_count": 144
        }
      ]
    },
    {
      "cell_type": "code",
      "metadata": {
        "id": "jL-XVruESC4N",
        "outputId": "152ab120-28b9-4849-b9ea-bb3fd9071cc6",
        "colab": {
          "base_uri": "https://localhost:8080/",
          "height": 221
        }
      },
      "source": [
        "datos['Stage']"
      ],
      "execution_count": 145,
      "outputs": [
        {
          "output_type": "execute_result",
          "data": {
            "text/plain": [
              "0        Closed Lost\n",
              "1         Closed Won\n",
              "2         Closed Won\n",
              "3        Closed Lost\n",
              "4        Closed Lost\n",
              "            ...     \n",
              "16942     Closed Won\n",
              "16943     Closed Won\n",
              "16944     Closed Won\n",
              "16945    Closed Lost\n",
              "16946    Closed Lost\n",
              "Name: Stage, Length: 16947, dtype: object"
            ]
          },
          "metadata": {
            "tags": []
          },
          "execution_count": 145
        }
      ]
    },
    {
      "cell_type": "code",
      "metadata": {
        "id": "QnQh5kFHSxcf",
        "outputId": "0131d4bb-5c6b-4afd-91eb-e014302c8b30",
        "colab": {
          "base_uri": "https://localhost:8080/",
          "height": 119
        }
      },
      "source": [
        "datos['Stage'].value_counts()"
      ],
      "execution_count": 146,
      "outputs": [
        {
          "output_type": "execute_result",
          "data": {
            "text/plain": [
              "Closed Won       9533\n",
              "Closed Lost      7350\n",
              "Proposal           35\n",
              "Negotiation        18\n",
              "Qualification      11\n",
              "Name: Stage, dtype: int64"
            ]
          },
          "metadata": {
            "tags": []
          },
          "execution_count": 146
        }
      ]
    },
    {
      "cell_type": "code",
      "metadata": {
        "id": "tkCl_bnoSC7g",
        "outputId": "9004b276-23c4-4c9b-a774-26bda73904a4",
        "colab": {
          "base_uri": "https://localhost:8080/",
          "height": 221
        }
      },
      "source": [
        "datos['Prod_Category_A']"
      ],
      "execution_count": 147,
      "outputs": [
        {
          "output_type": "execute_result",
          "data": {
            "text/plain": [
              "0        Prod_Category_A_None\n",
              "1        Prod_Category_A_None\n",
              "2        Prod_Category_A_None\n",
              "3        Prod_Category_A_None\n",
              "4        Prod_Category_A_None\n",
              "                 ...         \n",
              "16942    Prod_Category_A_None\n",
              "16943    Prod_Category_A_None\n",
              "16944    Prod_Category_A_None\n",
              "16945    Prod_Category_A_None\n",
              "16946    Prod_Category_A_None\n",
              "Name: Prod_Category_A, Length: 16947, dtype: object"
            ]
          },
          "metadata": {
            "tags": []
          },
          "execution_count": 147
        }
      ]
    },
    {
      "cell_type": "code",
      "metadata": {
        "id": "-SkcmJ3JSwtM",
        "outputId": "fc175ebc-6d2f-4631-d8bd-d3c941d7dd6c",
        "colab": {
          "base_uri": "https://localhost:8080/",
          "height": 51
        }
      },
      "source": [
        "datos['Prod_Category_A'].value_counts()"
      ],
      "execution_count": 148,
      "outputs": [
        {
          "output_type": "execute_result",
          "data": {
            "text/plain": [
              "Prod_Category_A_None    16947\n",
              "Name: Prod_Category_A, dtype: int64"
            ]
          },
          "metadata": {
            "tags": []
          },
          "execution_count": 148
        }
      ]
    }
  ]
}