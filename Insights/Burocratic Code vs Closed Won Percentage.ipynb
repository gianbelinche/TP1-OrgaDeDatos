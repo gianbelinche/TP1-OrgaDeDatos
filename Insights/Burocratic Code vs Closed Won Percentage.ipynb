{
  "nbformat": 4,
  "nbformat_minor": 0,
  "metadata": {
    "colab": {
      "name": "Untitled12.ipynb",
      "provenance": [],
      "collapsed_sections": []
    },
    "kernelspec": {
      "name": "python3",
      "display_name": "Python 3"
    }
  },
  "cells": [
    {
      "cell_type": "code",
      "metadata": {
        "id": "2OG5k2cKbs-Y",
        "outputId": "0702ea51-2d80-41b5-81e7-010d5b8fdcdf",
        "colab": {
          "base_uri": "https://localhost:8080/",
          "height": 34
        }
      },
      "source": [
        "from google.colab import drive\n",
        "drive.mount('/content/drive')"
      ],
      "execution_count": 3,
      "outputs": [
        {
          "output_type": "stream",
          "text": [
            "Drive already mounted at /content/drive; to attempt to forcibly remount, call drive.mount(\"/content/drive\", force_remount=True).\n"
          ],
          "name": "stdout"
        }
      ]
    },
    {
      "cell_type": "code",
      "metadata": {
        "id": "dXaJB38-b3Xd"
      },
      "source": [
        "import pandas as pd\n",
        "datos = pd.read_csv(\"/content/drive/My Drive/Entrenamieto_ECI_2020.csv\")"
      ],
      "execution_count": 49,
      "outputs": []
    },
    {
      "cell_type": "code",
      "metadata": {
        "id": "jB-Bn7YJcJNz",
        "outputId": "fc85a741-1070-4f05-afcd-42664d2ca69b",
        "colab": {
          "base_uri": "https://localhost:8080/",
          "height": 221
        }
      },
      "source": [
        "datos[\"Bureaucratic_Code\"]"
      ],
      "execution_count": 7,
      "outputs": [
        {
          "output_type": "execute_result",
          "data": {
            "text/plain": [
              "0        Bureaucratic_Code_4\n",
              "1        Bureaucratic_Code_4\n",
              "2        Bureaucratic_Code_4\n",
              "3        Bureaucratic_Code_5\n",
              "4        Bureaucratic_Code_5\n",
              "                ...         \n",
              "16942    Bureaucratic_Code_4\n",
              "16943    Bureaucratic_Code_4\n",
              "16944    Bureaucratic_Code_4\n",
              "16945    Bureaucratic_Code_4\n",
              "16946    Bureaucratic_Code_4\n",
              "Name: Bureaucratic_Code, Length: 16947, dtype: object"
            ]
          },
          "metadata": {
            "tags": []
          },
          "execution_count": 7
        }
      ]
    },
    {
      "cell_type": "code",
      "metadata": {
        "id": "PyVKs-WOcQuz",
        "outputId": "fc6bf79e-e6b6-47eb-885b-c24d08f9037c",
        "colab": {
          "base_uri": "https://localhost:8080/",
          "height": 153
        }
      },
      "source": [
        "datos[\"Bureaucratic_Code\"].value_counts()"
      ],
      "execution_count": 8,
      "outputs": [
        {
          "output_type": "execute_result",
          "data": {
            "text/plain": [
              "Bureaucratic_Code_4    12587\n",
              "Bureaucratic_Code_5     3803\n",
              "Bureaucratic_Code_1      261\n",
              "Bureaucratic_Code_2      242\n",
              "Bureaucratic_Code_0       51\n",
              "Bureaucratic_Code_3        2\n",
              "Bureaucratic_Code_6        1\n",
              "Name: Bureaucratic_Code, dtype: int64"
            ]
          },
          "metadata": {
            "tags": []
          },
          "execution_count": 8
        }
      ]
    },
    {
      "cell_type": "code",
      "metadata": {
        "id": "GnHEFNoGcdvy"
      },
      "source": [
        "datos[\"Stage_int\"] = (datos[\"Stage\"] == \"Closed Won\").astype(int)\n",
        "porcentaje_por_codigo = datos.loc[(datos[\"Bureaucratic_Code\"] != \"Bureaucratic_Code_6\") & (datos[\"Bureaucratic_Code\"] != \"Bureaucratic_Code_3\")] #Ya que estarian sesgando los datos por ser poco ocurrentes\n",
        "porcentaje_por_codigo = porcentaje_por_codigo.groupby(\"Bureaucratic_Code\").agg({\"Stage_int\" : \"mean\"})\n",
        "porcentaje_por_codigo.columns = [\"Porcentaje por codigo\"]"
      ],
      "execution_count": 58,
      "outputs": []
    },
    {
      "cell_type": "code",
      "metadata": {
        "id": "MbWqmT6hc6Jr"
      },
      "source": [
        "import matplotlib.pyplot as plt\n",
        "import numpy as np\n",
        "from matplotlib import style"
      ],
      "execution_count": 21,
      "outputs": []
    },
    {
      "cell_type": "code",
      "metadata": {
        "id": "upZT-tkhdHzL",
        "outputId": "6b7dc49b-5fb8-4aa4-fde5-124a3cf92d93",
        "colab": {
          "base_uri": "https://localhost:8080/",
          "height": 376
        }
      },
      "source": [
        "porcentaje_por_codigo.plot(kind = \"bar\",color = (0.3,0,0,0.8))\n",
        "plt.title(\"Bureaucratic Code vs Closed Won Percentage\")\n",
        "style.use(\"seaborn\")\n",
        "plt.xlabel(\"Bureaucratic Code\")\n",
        "plt.ylabel(\"Closed Won %\")\n",
        "plt.xticks(np.arange(5),[0,1,2,4,5])\n",
        "plt.xticks(rotation = 0)\n",
        "plt.show()"
      ],
      "execution_count": 61,
      "outputs": [
        {
          "output_type": "display_data",
          "data": {
            "image/png": "[encoded data removed]",
            "text/plain": [
              "<Figure size 576x396 with 1 Axes>"
            ]
          },
          "metadata": {
            "tags": []
          }
        }
      ]
    },
    {
      "cell_type": "code",
      "metadata": {
        "id": "HvxrIp0CdKma"
      },
      "source": [
        ""
      ],
      "execution_count": null,
      "outputs": []
    }
  ]
}