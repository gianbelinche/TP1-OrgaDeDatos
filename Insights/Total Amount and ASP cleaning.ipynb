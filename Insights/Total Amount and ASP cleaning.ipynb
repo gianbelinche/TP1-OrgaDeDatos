{
 "cells": [
  {
   "cell_type": "code",
   "execution_count": 112,
   "metadata": {},
   "outputs": [
    {
     "output_type": "execute_result",
     "data": {
      "text/plain": [
       "3509"
      ]
     },
     "metadata": {},
     "execution_count": 112
    }
   ],
   "source": [
    "import pandas as pd\n",
    "import numpy as np\n",
    "df = pd.read_csv(\"Entrenamieto_ECI_2020.csv\")\n",
    "filtered = df\n",
    "# 3509 casos estariamos perdiendo si no hacemos nada.\n",
    "filtered['Convertion_Factor'] = filtered['ASP_(converted)'] / filtered['ASP']\n",
    "filtered.Convertion_Factor.isnull().sum()"
   ]
  },
  {
   "cell_type": "code",
   "execution_count": 113,
   "metadata": {},
   "outputs": [
    {
     "output_type": "execute_result",
     "data": {
      "text/plain": [
       "0.03472863505806406"
      ]
     },
     "metadata": {},
     "execution_count": 113
    }
   ],
   "source": [
    "# Intentamos recuperar algunos datos del factor de conversion.\n",
    "filtered['Convertion_Factor_AVG'] = filtered.groupby('Opportunity_ID')['Convertion_Factor'].transform('mean')\n",
    "filtered['Convertion_Factor_diff_from_AVG'] = np.abs((filtered.Convertion_Factor - filtered.Convertion_Factor_AVG) / filtered.Convertion_Factor_AVG) * 100\n",
    "# Aca podemos ver que el error maximo ocasionado por el reemplazo de la media del grupo no supera el 3.5%.\n",
    "filtered['Convertion_Factor_diff_from_AVG'].max()"
   ]
  },
  {
   "cell_type": "code",
   "execution_count": 114,
   "metadata": {},
   "outputs": [
    {
     "output_type": "stream",
     "name": "stdout",
     "text": [
      "Mean: 5.214521564593748e-05\nMedian: 0.0\n"
     ]
    }
   ],
   "source": [
    "# La media y la mediana son muy pequeñas\n",
    "mean_ = filtered.Convertion_Factor_diff_from_AVG.mean()\n",
    "median_ = filtered.Convertion_Factor_diff_from_AVG.median()\n",
    "print(\"Mean: {}\".format(mean_))\n",
    "print(\"Median: {}\".format(median_))"
   ]
  },
  {
   "cell_type": "code",
   "execution_count": 115,
   "metadata": {},
   "outputs": [
    {
     "output_type": "execute_result",
     "data": {
      "text/plain": [
       "306"
      ]
     },
     "metadata": {},
     "execution_count": 115
    }
   ],
   "source": [
    "# Redujimos 10 veces la cantidad de nulos\n",
    "filtered.Convertion_Factor_AVG.isnull().sum()"
   ]
  },
  {
   "cell_type": "code",
   "execution_count": 116,
   "metadata": {},
   "outputs": [
    {
     "output_type": "execute_result",
     "data": {
      "text/plain": [
       "0"
      ]
     },
     "metadata": {},
     "execution_count": 116
    }
   ],
   "source": [
    "# Eliminamos los que no pudimos salvar\n",
    "filtered = filtered.loc[filtered.Convertion_Factor_AVG.isnull() == 0]\n",
    "filtered.Convertion_Factor_AVG.isnull().sum()"
   ]
  },
  {
   "cell_type": "code",
   "execution_count": 117,
   "metadata": {},
   "outputs": [
    {
     "output_type": "execute_result",
     "data": {
      "text/plain": [
       "(0, 55)"
      ]
     },
     "metadata": {},
     "execution_count": 117
    }
   ],
   "source": [
    "# Eliminamos los infinitos\n",
    "\n",
    "filtered = filtered.loc[filtered.Convertion_Factor_AVG != np.inf]\n",
    "filtered.loc[filtered.Convertion_Factor_AVG == np.inf].shape"
   ]
  },
  {
   "cell_type": "code",
   "execution_count": 118,
   "metadata": {},
   "outputs": [
    {
     "output_type": "execute_result",
     "data": {
      "text/plain": [
       "53"
      ]
     },
     "metadata": {},
     "execution_count": 118
    }
   ],
   "source": [
    "# Ahora veamos lo mismo con Total Amount\n",
    "# Tenemos 53 valores perdidos, no creo que tenga sentido recuperarlos, ya que modificaria la sumatoria\n",
    "# del Total Amount del grupo, siendo que son pocos creo que lo mejor es sacarlos.\n",
    "filtered.Total_Amount.isnull().sum()"
   ]
  },
  {
   "cell_type": "code",
   "execution_count": 119,
   "metadata": {},
   "outputs": [
    {
     "output_type": "execute_result",
     "data": {
      "text/plain": [
       "(16640, 55)"
      ]
     },
     "metadata": {},
     "execution_count": 119
    }
   ],
   "source": [
    "filtered.shape"
   ]
  },
  {
   "cell_type": "code",
   "execution_count": 120,
   "metadata": {},
   "outputs": [
    {
     "output_type": "execute_result",
     "data": {
      "text/plain": [
       "(16587, 56)"
      ]
     },
     "metadata": {},
     "execution_count": 120
    }
   ],
   "source": [
    "# Eliminamos todos los 'Opportunity_ID' que tienen algun registro con Total_Amount == None \n",
    "filtered['Total_Amount_is_null'] = filtered.Total_Amount.isnull().astype(int)\n",
    "filtered['Total_Amount_is_null'] = filtered.groupby('Opportunity_ID')['Total_Amount_is_null'].transform('sum')\n",
    "# Perdimos 359 filas\n",
    "filtered = filtered.loc[filtered.Total_Amount_is_null == 0]\n",
    "filtered.shape"
   ]
  },
  {
   "cell_type": "code",
   "execution_count": 121,
   "metadata": {},
   "outputs": [
    {
     "output_type": "execute_result",
     "data": {
      "text/plain": [
       "      ID    Region   Territory  Pricing, Delivery_Terms_Quote_Appr  \\\n",
       "0  27761      EMEA        None                                   1   \n",
       "1  27760      EMEA        None                                   0   \n",
       "2  27446  Americas  NW America                                   0   \n",
       "\n",
       "   Pricing, Delivery_Terms_Approved  Bureaucratic_Code_0_Approval  \\\n",
       "0                                 1                             1   \n",
       "1                                 0                             0   \n",
       "2                                 0                             0   \n",
       "\n",
       "   Bureaucratic_Code_0_Approved  Submitted_for_Approval    Bureaucratic_Code  \\\n",
       "0                             1                       0  Bureaucratic_Code_4   \n",
       "1                             0                       0  Bureaucratic_Code_4   \n",
       "2                             0                       0  Bureaucratic_Code_4   \n",
       "\n",
       "  Account_Created_Date  ... Total_Taxable_Amount_Currency  \\\n",
       "0            6/16/2015  ...                           EUR   \n",
       "1            6/16/2015  ...                           EUR   \n",
       "2            4/21/2015  ...                           USD   \n",
       "\n",
       "  Total_Taxable_Amount        Stage       Prod_Category_A  Convertion_Factor  \\\n",
       "0            5272800.0  Closed Lost  Prod_Category_A_None           1.131096   \n",
       "1              48230.0   Closed Won  Prod_Category_A_None           1.131094   \n",
       "2              83865.6   Closed Won  Prod_Category_A_None           1.000000   \n",
       "\n",
       "  Convertion_Factor_AVG Convertion_Factor_diff_from_AVG Total_Amount_is_null  \\\n",
       "0              1.131096                             0.0                    0   \n",
       "1              1.131094                             0.0                    0   \n",
       "2              1.000000                             0.0                    0   \n",
       "\n",
       "  Total_Amount(USD) Total_Taxable_Amount(USD)  \n",
       "0        5964043.80                5964043.80  \n",
       "1          54552.68                  54552.68  \n",
       "2          83865.60                  83865.60  \n",
       "\n",
       "[3 rows x 58 columns]"
      ],
      "text/html": "<div>\n<style scoped>\n    .dataframe tbody tr th:only-of-type {\n        vertical-align: middle;\n    }\n\n    .dataframe tbody tr th {\n        vertical-align: top;\n    }\n\n    .dataframe thead th {\n        text-align: right;\n    }\n</style>\n<table border=\"1\" class=\"dataframe\">\n  <thead>\n    <tr style=\"text-align: right;\">\n      <th></th>\n      <th>ID</th>\n      <th>Region</th>\n      <th>Territory</th>\n      <th>Pricing, Delivery_Terms_Quote_Appr</th>\n      <th>Pricing, Delivery_Terms_Approved</th>\n      <th>Bureaucratic_Code_0_Approval</th>\n      <th>Bureaucratic_Code_0_Approved</th>\n      <th>Submitted_for_Approval</th>\n      <th>Bureaucratic_Code</th>\n      <th>Account_Created_Date</th>\n      <th>...</th>\n      <th>Total_Taxable_Amount_Currency</th>\n      <th>Total_Taxable_Amount</th>\n      <th>Stage</th>\n      <th>Prod_Category_A</th>\n      <th>Convertion_Factor</th>\n      <th>Convertion_Factor_AVG</th>\n      <th>Convertion_Factor_diff_from_AVG</th>\n      <th>Total_Amount_is_null</th>\n      <th>Total_Amount(USD)</th>\n      <th>Total_Taxable_Amount(USD)</th>\n    </tr>\n  </thead>\n  <tbody>\n    <tr>\n      <th>0</th>\n      <td>27761</td>\n      <td>EMEA</td>\n      <td>None</td>\n      <td>1</td>\n      <td>1</td>\n      <td>1</td>\n      <td>1</td>\n      <td>0</td>\n      <td>Bureaucratic_Code_4</td>\n      <td>6/16/2015</td>\n      <td>...</td>\n      <td>EUR</td>\n      <td>5272800.0</td>\n      <td>Closed Lost</td>\n      <td>Prod_Category_A_None</td>\n      <td>1.131096</td>\n      <td>1.131096</td>\n      <td>0.0</td>\n      <td>0</td>\n      <td>5964043.80</td>\n      <td>5964043.80</td>\n    </tr>\n    <tr>\n      <th>1</th>\n      <td>27760</td>\n      <td>EMEA</td>\n      <td>None</td>\n      <td>0</td>\n      <td>0</td>\n      <td>0</td>\n      <td>0</td>\n      <td>0</td>\n      <td>Bureaucratic_Code_4</td>\n      <td>6/16/2015</td>\n      <td>...</td>\n      <td>EUR</td>\n      <td>48230.0</td>\n      <td>Closed Won</td>\n      <td>Prod_Category_A_None</td>\n      <td>1.131094</td>\n      <td>1.131094</td>\n      <td>0.0</td>\n      <td>0</td>\n      <td>54552.68</td>\n      <td>54552.68</td>\n    </tr>\n    <tr>\n      <th>2</th>\n      <td>27446</td>\n      <td>Americas</td>\n      <td>NW America</td>\n      <td>0</td>\n      <td>0</td>\n      <td>0</td>\n      <td>0</td>\n      <td>0</td>\n      <td>Bureaucratic_Code_4</td>\n      <td>4/21/2015</td>\n      <td>...</td>\n      <td>USD</td>\n      <td>83865.6</td>\n      <td>Closed Won</td>\n      <td>Prod_Category_A_None</td>\n      <td>1.000000</td>\n      <td>1.000000</td>\n      <td>0.0</td>\n      <td>0</td>\n      <td>83865.60</td>\n      <td>83865.60</td>\n    </tr>\n  </tbody>\n</table>\n<p>3 rows × 58 columns</p>\n</div>"
     },
     "metadata": {},
     "execution_count": 121
    }
   ],
   "source": [
    "filtered['Total_Amount(USD)'] = filtered['Total_Amount'] * filtered['Convertion_Factor_AVG']\n",
    "#Ya que estamos convertimos el Total_Taxable_Amount\n",
    "filtered['Total_Taxable_Amount(USD)'] = filtered['Total_Taxable_Amount'] * filtered['Convertion_Factor_AVG']\n",
    "filtered.head(3)"
   ]
  },
  {
   "cell_type": "code",
   "execution_count": 122,
   "metadata": {},
   "outputs": [
    {
     "output_type": "execute_result",
     "data": {
      "text/plain": [
       "0"
      ]
     },
     "metadata": {},
     "execution_count": 122
    }
   ],
   "source": [
    "filtered['Total_Amount(USD)'].isnull().sum()"
   ]
  },
  {
   "cell_type": "code",
   "execution_count": 123,
   "metadata": {},
   "outputs": [
    {
     "output_type": "execute_result",
     "data": {
      "text/plain": [
       "0"
      ]
     },
     "metadata": {},
     "execution_count": 123
    }
   ],
   "source": [
    "filtered['Total_Taxable_Amount(USD)'].isnull().sum()"
   ]
  },
  {
   "cell_type": "code",
   "execution_count": 124,
   "metadata": {},
   "outputs": [
    {
     "output_type": "execute_result",
     "data": {
      "text/plain": [
       "(0, 58)"
      ]
     },
     "metadata": {},
     "execution_count": 124
    }
   ],
   "source": [
    "filtered.loc[filtered['Total_Amount(USD)'] == np.inf].shape"
   ]
  },
  {
   "cell_type": "code",
   "execution_count": 125,
   "metadata": {},
   "outputs": [
    {
     "output_type": "execute_result",
     "data": {
      "text/plain": [
       "(0, 58)"
      ]
     },
     "metadata": {},
     "execution_count": 125
    }
   ],
   "source": [
    "filtered.loc[filtered['Total_Taxable_Amount(USD)'] == np.inf].shape"
   ]
  },
  {
   "cell_type": "code",
   "execution_count": 126,
   "metadata": {},
   "outputs": [],
   "source": [
    "# Guardamos el dataframe\n",
    "filtered = filtered.drop(columns={'Total_Amount_is_null', 'Convertion_Factor_AVG', 'Convertion_Factor_diff_from_AVG', 'Convertion_Factor', 'ASP', 'ASP_(converted)', 'ASP_Currency', 'ASP_(converted)_Currency', 'Total_Amount', 'Total_Taxable_Amount', 'Total_Amount_Currency', 'Total_Taxable_Amount_Currency', 'Price', 'Currency'})\n",
    "filtered.to_csv('Entrenamieto_ECI_2020_Total_Amount.csv')"
   ]
  },
  {
   "cell_type": "code",
   "execution_count": null,
   "metadata": {},
   "outputs": [],
   "source": []
  }
 ],
 "metadata": {
  "kernelspec": {
   "display_name": "Python 3",
   "language": "python",
   "name": "python3"
  },
  "language_info": {
   "codemirror_mode": {
    "name": "ipython",
    "version": 3
   },
   "file_extension": ".py",
   "mimetype": "text/x-python",
   "name": "python",
   "nbconvert_exporter": "python",
   "pygments_lexer": "ipython3",
   "version": "3.8.3-final"
  }
 },
 "nbformat": 4,
 "nbformat_minor": 4
}