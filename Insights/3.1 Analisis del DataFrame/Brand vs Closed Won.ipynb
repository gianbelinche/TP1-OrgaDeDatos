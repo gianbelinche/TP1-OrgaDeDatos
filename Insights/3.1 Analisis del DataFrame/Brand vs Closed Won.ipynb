{
 "metadata": {
  "language_info": {
   "codemirror_mode": {
    "name": "ipython",
    "version": 3
   },
   "file_extension": ".py",
   "mimetype": "text/x-python",
   "name": "python",
   "nbconvert_exporter": "python",
   "pygments_lexer": "ipython3",
   "version": "3.8.3-final"
  },
  "orig_nbformat": 2,
  "kernelspec": {
   "name": "python3",
   "display_name": "Python 3"
  }
 },
 "nbformat": 4,
 "nbformat_minor": 2,
 "cells": [
  {
   "cell_type": "code",
   "execution_count": 1,
   "metadata": {},
   "outputs": [],
   "source": [
    "import pandas as pd\n",
    "datos = pd.read_csv(\"../Entrenamieto_ECI_2020.csv\")"
   ]
  },
  {
   "cell_type": "code",
   "execution_count": 2,
   "metadata": {},
   "outputs": [
    {
     "output_type": "execute_result",
     "data": {
      "text/plain": [
       "None    9533\n",
       "Name: Brand, dtype: int64"
      ]
     },
     "metadata": {},
     "execution_count": 2
    }
   ],
   "source": [
    "# Obtenemos unicamente los datos de Brand para los casos cerrados\n",
    "datos.groupby('Stage').get_group('Closed Won')['Brand'].value_counts()"
   ]
  },
  {
   "cell_type": "code",
   "execution_count": 3,
   "metadata": {},
   "outputs": [],
   "source": [
    "# Observamos que la gran mayoria de las entradas no disponen de informacion sobre el tamaño de los paquetes\n",
    "# Ademas observamos que particularmente para los casos de 'Closed Won' no se dispone de informacion sobre\n",
    "# el tamaño de los paquetes en ninguna de las entradas.\n",
    "# Se concluye entonces que no se puede extraer una relacion de estos campos"
   ]
  }
 ]
}