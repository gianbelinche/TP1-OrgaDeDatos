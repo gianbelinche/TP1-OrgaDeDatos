{
  "nbformat": 4,
  "nbformat_minor": 0,
  "metadata": {
    "colab": {
      "name": "Untitled13.ipynb",
      "provenance": [],
      "collapsed_sections": []
    },
    "kernelspec": {
      "name": "python3",
      "display_name": "Python 3"
    }
  },
  "cells": [
    {
      "cell_type": "code",
      "metadata": {
        "id": "GX8s2NECvfr6",
        "outputId": "20a82c15-76c4-4dad-916b-443b1d5d9bcf",
        "colab": {
          "base_uri": "https://localhost:8080/"
        }
      },
      "source": [
        "from google.colab import drive\n",
        "drive.mount('/content/drive')\n",
        "import pandas as pd\n",
        "datos = pd.read_csv(\"/content/drive/My Drive/Entrenamieto_ECI_2020.csv\")"
      ],
      "execution_count": 19,
      "outputs": [
        {
          "output_type": "stream",
          "text": [
            "Drive already mounted at /content/drive; to attempt to forcibly remount, call drive.mount(\"/content/drive\", force_remount=True).\n"
          ],
          "name": "stdout"
        }
      ]
    },
    {
      "cell_type": "code",
      "metadata": {
        "id": "saytTh64Eaa0"
      },
      "source": [
        "import numpy as np\n",
        "import matplotlib.pyplot as plt\n",
        "from matplotlib import style\n",
        "from cycler import cycler\n",
        "from math import pi"
      ],
      "execution_count": 2,
      "outputs": []
    },
    {
      "cell_type": "code",
      "metadata": {
        "id": "3rEEPINH1_0P"
      },
      "source": [
        "datos = datos.loc[datos[\"ASP\"] != 0]"
      ],
      "execution_count": 20,
      "outputs": []
    },
    {
      "cell_type": "code",
      "metadata": {
        "id": "zQxz3a2g0sfH"
      },
      "source": [
        "datos[\"Total_Amount_converted\"] = datos[\"Total_Amount\"] * datos[\"ASP_(converted)\"] / datos[\"ASP\"] #Convierto a dolares"
      ],
      "execution_count": 21,
      "outputs": []
    },
    {
      "cell_type": "code",
      "metadata": {
        "id": "QIqkFUrVFsfm"
      },
      "source": [
        "datos[\"Stage_i\"] = (datos[\"Stage\"] == \"Closed Won\").astype(int)\n",
        "tres_op_type = datos[\"Region\"].value_counts().nlargest(3).reset_index()[\"index\"]\n",
        "datos_cortos_op = datos.loc[datos[\"Region\"].isin(tres_op_type)]"
      ],
      "execution_count": 31,
      "outputs": []
    },
    {
      "cell_type": "code",
      "metadata": {
        "id": "wdxst0JmFyJF",
        "outputId": "d982913a-7425-4a15-8484-4b483923c721",
        "colab": {
          "base_uri": "https://localhost:8080/",
          "height": 198
        }
      },
      "source": [
        "datos_plot = datos_cortos_op.groupby(\"Region\").agg({\"TRF\" : [\"mean\",\"max\"],\"ASP_(converted)\" : \"mean\",\"Stage_i\" : \"mean\",\"Total_Amount_converted\" : \"mean\"})\n",
        "datos_plot_ = datos_plot / datos_plot.sum()\n",
        "datos_plot_"
      ],
      "execution_count": 35,
      "outputs": [
        {
          "output_type": "execute_result",
          "data": {
            "text/html": [
              "<div>\n",
              "<style scoped>\n",
              "    .dataframe tbody tr th:only-of-type {\n",
              "        vertical-align: middle;\n",
              "    }\n",
              "\n",
              "    .dataframe tbody tr th {\n",
              "        vertical-align: top;\n",
              "    }\n",
              "\n",
              "    .dataframe thead tr th {\n",
              "        text-align: left;\n",
              "    }\n",
              "\n",
              "    .dataframe thead tr:last-of-type th {\n",
              "        text-align: right;\n",
              "    }\n",
              "</style>\n",
              "<table border=\"1\" class=\"dataframe\">\n",
              "  <thead>\n",
              "    <tr>\n",
              "      <th></th>\n",
              "      <th colspan=\"2\" halign=\"left\">TRF</th>\n",
              "      <th>ASP_(converted)</th>\n",
              "      <th>Stage_i</th>\n",
              "      <th>Total_Amount_converted</th>\n",
              "    </tr>\n",
              "    <tr>\n",
              "      <th></th>\n",
              "      <th>mean</th>\n",
              "      <th>max</th>\n",
              "      <th>mean</th>\n",
              "      <th>mean</th>\n",
              "      <th>mean</th>\n",
              "    </tr>\n",
              "    <tr>\n",
              "      <th>Region</th>\n",
              "      <th></th>\n",
              "      <th></th>\n",
              "      <th></th>\n",
              "      <th></th>\n",
              "      <th></th>\n",
              "    </tr>\n",
              "  </thead>\n",
              "  <tbody>\n",
              "    <tr>\n",
              "      <th>Americas</th>\n",
              "      <td>0.620249</td>\n",
              "      <td>0.531350</td>\n",
              "      <td>0.317247</td>\n",
              "      <td>0.274707</td>\n",
              "      <td>0.635645</td>\n",
              "    </tr>\n",
              "    <tr>\n",
              "      <th>EMEA</th>\n",
              "      <td>0.351533</td>\n",
              "      <td>0.425080</td>\n",
              "      <td>0.307028</td>\n",
              "      <td>0.321146</td>\n",
              "      <td>0.303061</td>\n",
              "    </tr>\n",
              "    <tr>\n",
              "      <th>Japan</th>\n",
              "      <td>0.028218</td>\n",
              "      <td>0.043571</td>\n",
              "      <td>0.375725</td>\n",
              "      <td>0.404148</td>\n",
              "      <td>0.061294</td>\n",
              "    </tr>\n",
              "  </tbody>\n",
              "</table>\n",
              "</div>"
            ],
            "text/plain": [
              "               TRF           ASP_(converted)   Stage_i Total_Amount_converted\n",
              "              mean       max            mean      mean                   mean\n",
              "Region                                                                       \n",
              "Americas  0.620249  0.531350        0.317247  0.274707               0.635645\n",
              "EMEA      0.351533  0.425080        0.307028  0.321146               0.303061\n",
              "Japan     0.028218  0.043571        0.375725  0.404148               0.061294"
            ]
          },
          "metadata": {
            "tags": []
          },
          "execution_count": 35
        }
      ]
    },
    {
      "cell_type": "code",
      "metadata": {
        "id": "exlNyy2iM9_S"
      },
      "source": [
        ""
      ],
      "execution_count": null,
      "outputs": []
    },
    {
      "cell_type": "code",
      "metadata": {
        "id": "21i4BDIHIlqp",
        "outputId": "39a359d8-e73d-4ba2-b10c-313d19b7f241",
        "colab": {
          "base_uri": "https://localhost:8080/",
          "height": 261
        }
      },
      "source": [
        "ax = plt.subplot(122,polar=\"True\")\n",
        "cat = [\"TRF\",\"TRF max\",\"ASP\",\"Stage\",\"Total Amount\"]\n",
        "values = [datos_plot_.iloc[i,:].values.tolist() for i in range(3)]\n",
        "values = [(v + v[:1]) for v in values]\n",
        "values += values[:1]\n",
        "angles = [n / float(len(cat)) * 2 * pi for n in range(len(cat))]\n",
        "angles += angles[:1]\n",
        "colors = [\"r\",\"b\",\"y\"]\n",
        "for val,c in zip(values,colors):\n",
        "  plt.scatter(angles,val,marker=\".\",color=c)\n",
        "  plt.fill(angles,val,alpha=0.3,color=c)\n",
        "plt.xticks(angles[:-1],cat)\n",
        "ax.set_rlabel_position(0)\n",
        "style.use(\"seaborn\")\n",
        "plt.yticks([0.2,0.5])\n",
        "plt.legend(datos_plot_.index,loc=\"lower right\")\n",
        "\n",
        "plt.show()"
      ],
      "execution_count": 36,
      "outputs": [
        {
          "output_type": "display_data",
          "data": {
            "image/png": "[encoded data removed]",
            "text/plain": [
              "<Figure size 576x396 with 1 Axes>"
            ]
          },
          "metadata": {
            "tags": []
          }
        }
      ]
    }
  ]
}