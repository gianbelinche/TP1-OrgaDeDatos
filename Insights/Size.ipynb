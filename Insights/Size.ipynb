{
 "cells": [
  {
   "cell_type": "code",
   "execution_count": 7,
   "metadata": {},
   "outputs": [
    {
     "data": {
      "text/plain": [
       "Size    Stage        \n",
       "None    Closed Won       9533\n",
       "        Closed Lost      6370\n",
       "        Proposal           35\n",
       "        Negotiation        18\n",
       "        Qualification      11\n",
       "Other   Closed Lost       394\n",
       "Size_0  Closed Lost         7\n",
       "Size_1  Closed Lost        25\n",
       "Size_2  Closed Lost         2\n",
       "Size_3  Closed Lost       356\n",
       "Size_4  Closed Lost       196\n",
       "Name: Stage, dtype: int64"
      ]
     },
     "execution_count": 7,
     "metadata": {},
     "output_type": "execute_result"
    }
   ],
   "source": [
    "import pandas as pd\n",
    "datos = pd.read_csv(\"Entrenamieto_ECI_2020.csv\")\n",
    "gp = datos.groupby(\"Size\")[\"Stage\"].value_counts()\n",
    "gp"
   ]
  },
  {
   "cell_type": "code",
   "execution_count": null,
   "metadata": {},
   "outputs": [],
   "source": [
    "#Esto me indica que la columna size no da informacion valida sobre el modelo, ya que cuando no se conoce el tamaño\n",
    "#El resultado no esta definido, pero al conocerse el tamaño el resultado es siempre perdido, esto no tiene sentido alguno\n",
    "#Ya que aun en los casos en que el tamaño es \"None\", debe ser alguno de los tamaños posibles\n",
    "#Por lo que intuyo que es un resultado del azar y no que el hecho de conocer el tamaño implique que el caso sera perdido"
   ]
  }
 ],
 "metadata": {
  "kernelspec": {
   "display_name": "Python 3",
   "language": "python",
   "name": "python3"
  },
  "language_info": {
   "codemirror_mode": {
    "name": "ipython",
    "version": 3
   },
   "file_extension": ".py",
   "mimetype": "text/x-python",
   "name": "python",
   "nbconvert_exporter": "python",
   "pygments_lexer": "ipython3",
   "version": "3.8.3"
  }
 },
 "nbformat": 4,
 "nbformat_minor": 4
}
