{
  "nbformat": 4,
  "nbformat_minor": 0,
  "metadata": {
    "colab": {
      "name": "Burocratic Code vs Closed Won Percentage.ipynb",
      "provenance": [],
      "collapsed_sections": []
    },
    "kernelspec": {
      "name": "python3",
      "display_name": "Python 3"
    }
  },
  "cells": [
    {
      "cell_type": "code",
      "metadata": {
        "id": "2OG5k2cKbs-Y",
        "outputId": "02bd3aa8-db9e-4932-e269-57fb3ed4795e",
        "colab": {
          "base_uri": "https://localhost:8080/"
        }
      },
      "source": [
        "from google.colab import drive\n",
        "drive.mount('/content/drive')"
      ],
      "execution_count": 1,
      "outputs": [
        {
          "output_type": "stream",
          "text": [
            "Mounted at /content/drive\n"
          ],
          "name": "stdout"
        }
      ]
    },
    {
      "cell_type": "code",
      "metadata": {
        "id": "dXaJB38-b3Xd"
      },
      "source": [
        "import pandas as pd\n",
        "datos = pd.read_csv(\"/content/drive/My Drive/Entrenamieto_ECI_2020.csv\")"
      ],
      "execution_count": 2,
      "outputs": []
    },
    {
      "cell_type": "code",
      "metadata": {
        "id": "jB-Bn7YJcJNz",
        "outputId": "6a3ab8a6-11f3-41b8-c6e7-271797ef802d",
        "colab": {
          "base_uri": "https://localhost:8080/"
        }
      },
      "source": [
        "datos[\"Bureaucratic_Code\"]"
      ],
      "execution_count": 3,
      "outputs": [
        {
          "output_type": "execute_result",
          "data": {
            "text/plain": [
              "0        Bureaucratic_Code_4\n",
              "1        Bureaucratic_Code_4\n",
              "2        Bureaucratic_Code_4\n",
              "3        Bureaucratic_Code_5\n",
              "4        Bureaucratic_Code_5\n",
              "                ...         \n",
              "16942    Bureaucratic_Code_4\n",
              "16943    Bureaucratic_Code_4\n",
              "16944    Bureaucratic_Code_4\n",
              "16945    Bureaucratic_Code_4\n",
              "16946    Bureaucratic_Code_4\n",
              "Name: Bureaucratic_Code, Length: 16947, dtype: object"
            ]
          },
          "metadata": {
            "tags": []
          },
          "execution_count": 3
        }
      ]
    },
    {
      "cell_type": "code",
      "metadata": {
        "id": "PyVKs-WOcQuz",
        "outputId": "c5b8f8c5-b82b-4593-9a7d-1e8007f095a4",
        "colab": {
          "base_uri": "https://localhost:8080/"
        }
      },
      "source": [
        "datos[\"Bureaucratic_Code\"].value_counts()"
      ],
      "execution_count": 4,
      "outputs": [
        {
          "output_type": "execute_result",
          "data": {
            "text/plain": [
              "Bureaucratic_Code_4    12587\n",
              "Bureaucratic_Code_5     3803\n",
              "Bureaucratic_Code_1      261\n",
              "Bureaucratic_Code_2      242\n",
              "Bureaucratic_Code_0       51\n",
              "Bureaucratic_Code_3        2\n",
              "Bureaucratic_Code_6        1\n",
              "Name: Bureaucratic_Code, dtype: int64"
            ]
          },
          "metadata": {
            "tags": []
          },
          "execution_count": 4
        }
      ]
    },
    {
      "cell_type": "code",
      "metadata": {
        "id": "GnHEFNoGcdvy"
      },
      "source": [
        "datos[\"Stage_int\"] = (datos[\"Stage\"] == \"Closed Won\").astype(int)\n",
        "porcentaje_por_codigo = datos.loc[(datos[\"Bureaucratic_Code\"] != \"Bureaucratic_Code_6\") & (datos[\"Bureaucratic_Code\"] != \"Bureaucratic_Code_3\")] #Ya que estarian sesgando los datos por ser poco ocurrentes\n",
        "porcentaje_por_codigo = porcentaje_por_codigo.groupby(\"Bureaucratic_Code\").agg({\"Stage_int\" : \"mean\"})\n",
        "porcentaje_por_codigo.columns = [\"Porcentaje por codigo\"]"
      ],
      "execution_count": 5,
      "outputs": []
    },
    {
      "cell_type": "code",
      "metadata": {
        "id": "MbWqmT6hc6Jr"
      },
      "source": [
        "import matplotlib.pyplot as plt\n",
        "import numpy as np\n",
        "from matplotlib import style"
      ],
      "execution_count": 6,
      "outputs": []
    },
    {
      "cell_type": "code",
      "metadata": {
        "id": "upZT-tkhdHzL",
        "outputId": "2e23a05c-4ed7-4dcc-f74c-f21c384a6da3",
        "colab": {
          "base_uri": "https://localhost:8080/",
          "height": 376
        }
      },
      "source": [
        "porcentaje_por_codigo.plot(kind = \"bar\",color = (0.3,0,0,0.8))\n",
        "plt.title(\"Código Burocrático vs % Exito\")\n",
        "style.use(\"seaborn\")\n",
        "plt.xlabel(\"Código Burocrático\")\n",
        "plt.ylabel(\"% Exito\")\n",
        "plt.xticks(np.arange(5),[0,1,2,4,5])\n",
        "plt.xticks(rotation = 0)\n",
        "plt.show()"
      ],
      "execution_count": 8,
      "outputs": [
        {
          "output_type": "display_data",
          "data": {
            "image/png": "[encoded data removed]",
            "text/plain": [
              "<Figure size 576x396 with 1 Axes>"
            ]
          },
          "metadata": {
            "tags": []
          }
        }
      ]
    },
    {
      "cell_type": "code",
      "metadata": {
        "id": "HvxrIp0CdKma"
      },
      "source": [
        ""
      ],
      "execution_count": null,
      "outputs": []
    }
  ]
}