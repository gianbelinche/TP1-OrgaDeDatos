{
 "metadata": {
  "language_info": {
   "codemirror_mode": {
    "name": "ipython",
    "version": 3
   },
   "file_extension": ".py",
   "mimetype": "text/x-python",
   "name": "python",
   "nbconvert_exporter": "python",
   "pygments_lexer": "ipython3",
   "version": "3.8.3-final"
  },
  "orig_nbformat": 2,
  "kernelspec": {
   "name": "python3",
   "display_name": "Python 3"
  }
 },
 "nbformat": 4,
 "nbformat_minor": 2,
 "cells": [
  {
   "cell_type": "code",
   "execution_count": 4,
   "metadata": {},
   "outputs": [
    {
     "output_type": "execute_result",
     "data": {
      "text/plain": [
       "Burocratico_No_Necesario    0\n",
       "Burocratico_Aprobado        0\n",
       "Terminos_No_Necesarios      0\n",
       "Terminos_Aprobados          0\n",
       "Exito                       0\n",
       "dtype: int64"
      ]
     },
     "metadata": {},
     "execution_count": 4
    }
   ],
   "source": [
    "import numpy as np\n",
    "import pandas as pd\n",
    "datos = pd.read_csv(\"../Entrenamieto_ECI_2020.csv\")\n",
    "\n",
    "gp = datos[[\"Bureaucratic_Code_0_Approval\",\n",
    "            \"Bureaucratic_Code_0_Approved\",\n",
    "            \"Pricing, Delivery_Terms_Quote_Appr\",\n",
    "            \"Pricing, Delivery_Terms_Approved\",\n",
    "            \"Stage\"]]\n",
    "gp.columns = ['Burocratico_No_Necesario', \n",
    "              'Burocratico_Aprobado', \n",
    "              'Terminos_No_Necesarios', \n",
    "              'Terminos_Aprobados', \n",
    "              'Exito']\n",
    "#Vemos que no hay nulos en las filas\n",
    "gp.isnull().sum()"
   ]
  },
  {
   "cell_type": "code",
   "execution_count": 5,
   "metadata": {},
   "outputs": [
    {
     "output_type": "execute_result",
     "data": {
      "text/plain": [
       "       Burocratico_No_Necesario  Burocratico_Aprobado  Terminos_No_Necesarios  \\\n",
       "0                             1                     1                       1   \n",
       "1                             0                     0                       0   \n",
       "2                             0                     0                       0   \n",
       "3                             1                     0                       1   \n",
       "4                             1                     0                       1   \n",
       "...                         ...                   ...                     ...   \n",
       "16942                         1                     1                       1   \n",
       "16943                         1                     1                       1   \n",
       "16944                         1                     1                       1   \n",
       "16945                         1                     1                       1   \n",
       "16946                         1                     1                       1   \n",
       "\n",
       "       Terminos_Aprobados  Exito  \n",
       "0                       1      0  \n",
       "1                       0      1  \n",
       "2                       0      1  \n",
       "3                       0      0  \n",
       "4                       0      0  \n",
       "...                   ...    ...  \n",
       "16942                   1      1  \n",
       "16943                   1      1  \n",
       "16944                   1      1  \n",
       "16945                   1      0  \n",
       "16946                   1      0  \n",
       "\n",
       "[16947 rows x 5 columns]"
      ],
      "text/html": "<div>\n<style scoped>\n    .dataframe tbody tr th:only-of-type {\n        vertical-align: middle;\n    }\n\n    .dataframe tbody tr th {\n        vertical-align: top;\n    }\n\n    .dataframe thead th {\n        text-align: right;\n    }\n</style>\n<table border=\"1\" class=\"dataframe\">\n  <thead>\n    <tr style=\"text-align: right;\">\n      <th></th>\n      <th>Burocratico_No_Necesario</th>\n      <th>Burocratico_Aprobado</th>\n      <th>Terminos_No_Necesarios</th>\n      <th>Terminos_Aprobados</th>\n      <th>Exito</th>\n    </tr>\n  </thead>\n  <tbody>\n    <tr>\n      <th>0</th>\n      <td>1</td>\n      <td>1</td>\n      <td>1</td>\n      <td>1</td>\n      <td>0</td>\n    </tr>\n    <tr>\n      <th>1</th>\n      <td>0</td>\n      <td>0</td>\n      <td>0</td>\n      <td>0</td>\n      <td>1</td>\n    </tr>\n    <tr>\n      <th>2</th>\n      <td>0</td>\n      <td>0</td>\n      <td>0</td>\n      <td>0</td>\n      <td>1</td>\n    </tr>\n    <tr>\n      <th>3</th>\n      <td>1</td>\n      <td>0</td>\n      <td>1</td>\n      <td>0</td>\n      <td>0</td>\n    </tr>\n    <tr>\n      <th>4</th>\n      <td>1</td>\n      <td>0</td>\n      <td>1</td>\n      <td>0</td>\n      <td>0</td>\n    </tr>\n    <tr>\n      <th>...</th>\n      <td>...</td>\n      <td>...</td>\n      <td>...</td>\n      <td>...</td>\n      <td>...</td>\n    </tr>\n    <tr>\n      <th>16942</th>\n      <td>1</td>\n      <td>1</td>\n      <td>1</td>\n      <td>1</td>\n      <td>1</td>\n    </tr>\n    <tr>\n      <th>16943</th>\n      <td>1</td>\n      <td>1</td>\n      <td>1</td>\n      <td>1</td>\n      <td>1</td>\n    </tr>\n    <tr>\n      <th>16944</th>\n      <td>1</td>\n      <td>1</td>\n      <td>1</td>\n      <td>1</td>\n      <td>1</td>\n    </tr>\n    <tr>\n      <th>16945</th>\n      <td>1</td>\n      <td>1</td>\n      <td>1</td>\n      <td>1</td>\n      <td>0</td>\n    </tr>\n    <tr>\n      <th>16946</th>\n      <td>1</td>\n      <td>1</td>\n      <td>1</td>\n      <td>1</td>\n      <td>0</td>\n    </tr>\n  </tbody>\n</table>\n<p>16947 rows × 5 columns</p>\n</div>"
     },
     "metadata": {},
     "execution_count": 5
    }
   ],
   "source": [
    "gp.Exito = (gp.Exito == 'Closed Won').astype(int)\n",
    "gp"
   ]
  },
  {
   "cell_type": "code",
   "execution_count": 6,
   "metadata": {},
   "outputs": [
    {
     "output_type": "execute_result",
     "data": {
      "text/plain": [
       "0"
      ]
     },
     "metadata": {},
     "execution_count": 6
    }
   ],
   "source": [
    "#Vemos que si no es necesario el codigo burocratico entonces aprobado se setea en 0\n",
    "((gp['Burocratico_No_Necesario'] == 0) & (gp['Burocratico_Aprobado'] == 1)).sum()"
   ]
  },
  {
   "cell_type": "code",
   "execution_count": 7,
   "metadata": {},
   "outputs": [
    {
     "output_type": "execute_result",
     "data": {
      "text/plain": [
       "0"
      ]
     },
     "metadata": {},
     "execution_count": 7
    }
   ],
   "source": [
    "#Lo mismo sucede con los terminos\n",
    "((gp['Terminos_No_Necesarios'] == 0) & (gp['Terminos_Aprobados'] == 1)).sum()"
   ]
  },
  {
   "cell_type": "code",
   "execution_count": 8,
   "metadata": {},
   "outputs": [
    {
     "output_type": "execute_result",
     "data": {
      "text/plain": [
       "       Burocraticos  Terminos  Exito\n",
       "0                 2         2      0\n",
       "1                 0         0      1\n",
       "2                 0         0      1\n",
       "3                 1         1      0\n",
       "4                 1         1      0\n",
       "...             ...       ...    ...\n",
       "16942             2         2      1\n",
       "16943             2         2      1\n",
       "16944             2         2      1\n",
       "16945             2         2      0\n",
       "16946             2         2      0\n",
       "\n",
       "[16947 rows x 3 columns]"
      ],
      "text/html": "<div>\n<style scoped>\n    .dataframe tbody tr th:only-of-type {\n        vertical-align: middle;\n    }\n\n    .dataframe tbody tr th {\n        vertical-align: top;\n    }\n\n    .dataframe thead th {\n        text-align: right;\n    }\n</style>\n<table border=\"1\" class=\"dataframe\">\n  <thead>\n    <tr style=\"text-align: right;\">\n      <th></th>\n      <th>Burocraticos</th>\n      <th>Terminos</th>\n      <th>Exito</th>\n    </tr>\n  </thead>\n  <tbody>\n    <tr>\n      <th>0</th>\n      <td>2</td>\n      <td>2</td>\n      <td>0</td>\n    </tr>\n    <tr>\n      <th>1</th>\n      <td>0</td>\n      <td>0</td>\n      <td>1</td>\n    </tr>\n    <tr>\n      <th>2</th>\n      <td>0</td>\n      <td>0</td>\n      <td>1</td>\n    </tr>\n    <tr>\n      <th>3</th>\n      <td>1</td>\n      <td>1</td>\n      <td>0</td>\n    </tr>\n    <tr>\n      <th>4</th>\n      <td>1</td>\n      <td>1</td>\n      <td>0</td>\n    </tr>\n    <tr>\n      <th>...</th>\n      <td>...</td>\n      <td>...</td>\n      <td>...</td>\n    </tr>\n    <tr>\n      <th>16942</th>\n      <td>2</td>\n      <td>2</td>\n      <td>1</td>\n    </tr>\n    <tr>\n      <th>16943</th>\n      <td>2</td>\n      <td>2</td>\n      <td>1</td>\n    </tr>\n    <tr>\n      <th>16944</th>\n      <td>2</td>\n      <td>2</td>\n      <td>1</td>\n    </tr>\n    <tr>\n      <th>16945</th>\n      <td>2</td>\n      <td>2</td>\n      <td>0</td>\n    </tr>\n    <tr>\n      <th>16946</th>\n      <td>2</td>\n      <td>2</td>\n      <td>0</td>\n    </tr>\n  </tbody>\n</table>\n<p>16947 rows × 3 columns</p>\n</div>"
     },
     "metadata": {},
     "execution_count": 8
    }
   ],
   "source": [
    "gp['Burocraticos'] = gp['Burocratico_No_Necesario'] + gp['Burocratico_Aprobado']\n",
    "gp['Terminos'] = gp['Terminos_No_Necesarios'] + gp['Terminos_Aprobados']\n",
    "gp = gp.loc[:, ['Burocraticos', 'Terminos', 'Exito']]\n",
    "gp"
   ]
  },
  {
   "cell_type": "code",
   "execution_count": 9,
   "metadata": {},
   "outputs": [
    {
     "output_type": "execute_result",
     "data": {
      "text/plain": [
       "0    0.524518\n",
       "2    0.318876\n",
       "1    0.156606\n",
       "Name: Burocraticos, dtype: float64"
      ]
     },
     "metadata": {},
     "execution_count": 9
    }
   ],
   "source": [
    "distribucion_burocraticos = gp['Burocraticos'].value_counts(normalize = True)\n",
    "distribucion_burocraticos"
   ]
  },
  {
   "cell_type": "code",
   "execution_count": 10,
   "metadata": {},
   "outputs": [
    {
     "output_type": "execute_result",
     "data": {
      "text/plain": [
       "[0.5245176137369446, 0.15660588894789637, 0.31887649731515905]"
      ]
     },
     "metadata": {},
     "execution_count": 10
    }
   ],
   "source": [
    "#A partir de ahora voy a ir extrayendo los datos del df y pasandolos a listas para construir el grafico manualmente.\n",
    "#La notacion es la siguiente: El nombre de la lista representa al nodo y el indice el link que debe tomar siguiendo \n",
    "# la siguiente notacion\n",
    "#0 : No necesario\n",
    "#1 : No aprobado\n",
    "#2 : Aprobado\n",
    "\n",
    "\n",
    "oportunidades = [0, 0, 0]\n",
    "oportunidades[0] = distribucion_burocraticos.loc[0]\n",
    "oportunidades[1] = distribucion_burocraticos.loc[1]\n",
    "oportunidades[2] = distribucion_burocraticos.loc[2]\n",
    "oportunidades"
   ]
  },
  {
   "cell_type": "code",
   "execution_count": 11,
   "metadata": {},
   "outputs": [],
   "source": [
    "distribucion_terminos = gp.groupby('Burocraticos')['Terminos'].value_counts(normalize = True).to_frame()\n",
    "buro_no_necesario = [0, 0, 0]\n",
    "buro_no_aprobado = [0, 0, 0]\n",
    "buro_aprobado = [0, 0, 0]\n",
    "\n",
    "buro_no_necesario[0] = distribucion_terminos.loc[(0, 0)]\n",
    "buro_no_necesario[1] = distribucion_terminos.loc[(0, 1)]\n",
    "buro_no_necesario[2] = distribucion_terminos.loc[(0, 2)]\n",
    "\n",
    "buro_no_aprobado[0] = distribucion_terminos.loc[(1, 0)]\n",
    "buro_no_aprobado[1] = distribucion_terminos.loc[(1, 1)]\n",
    "buro_no_aprobado[2] = distribucion_terminos.loc[(1, 2)]\n",
    "\n",
    "buro_aprobado[0] = distribucion_terminos.loc[(2, 0)]\n",
    "buro_aprobado[1] = distribucion_terminos.loc[(2, 1)]\n",
    "buro_aprobado[2] = distribucion_terminos.loc[(2, 2)]"
   ]
  },
  {
   "cell_type": "code",
   "execution_count": 12,
   "metadata": {},
   "outputs": [
    {
     "output_type": "execute_result",
     "data": {
      "text/plain": [
       "             Exito\n",
       "Terminos          \n",
       "0         0.650891\n",
       "1         0.265843\n",
       "2         0.647523"
      ],
      "text/html": "<div>\n<style scoped>\n    .dataframe tbody tr th:only-of-type {\n        vertical-align: middle;\n    }\n\n    .dataframe tbody tr th {\n        vertical-align: top;\n    }\n\n    .dataframe thead th {\n        text-align: right;\n    }\n</style>\n<table border=\"1\" class=\"dataframe\">\n  <thead>\n    <tr style=\"text-align: right;\">\n      <th></th>\n      <th>Exito</th>\n    </tr>\n    <tr>\n      <th>Terminos</th>\n      <th></th>\n    </tr>\n  </thead>\n  <tbody>\n    <tr>\n      <th>0</th>\n      <td>0.650891</td>\n    </tr>\n    <tr>\n      <th>1</th>\n      <td>0.265843</td>\n    </tr>\n    <tr>\n      <th>2</th>\n      <td>0.647523</td>\n    </tr>\n  </tbody>\n</table>\n</div>"
     },
     "metadata": {},
     "execution_count": 12
    }
   ],
   "source": [
    "distribucion_exito = gp.groupby('Terminos').agg({'Exito' : 'mean'})\n",
    "termino_no_necesario = [0, 0]\n",
    "termino_no_aprobado = [0, 0]\n",
    "termino_aprobado = [0, 0]\n",
    "\n",
    "termino_no_necesario[0] = distribucion_exito.loc[0]\n",
    "termino_no_necesario[1] = 1 - distribucion_exito.loc[0]\n",
    "\n",
    "termino_no_aprobado[0] = distribucion_exito.loc[1]\n",
    "termino_no_aprobado[1] = 1 - distribucion_exito.loc[1]\n",
    "\n",
    "termino_aprobado[0] = distribucion_exito.loc[2]\n",
    "termino_aprobado[1] = 1 - distribucion_exito.loc[2]\n",
    "\n",
    "distribucion_exito"
   ]
  },
  {
   "cell_type": "code",
   "execution_count": 13,
   "metadata": {},
   "outputs": [],
   "source": [
    "# Se siguio el tutorial de https://towardsdatascience.com/sankey-diagram-basics-with-pythons-plotly-7a13d557401a\n",
    "import plotly.graph_objects as go\n",
    "\n",
    "source = [\n",
    "          0, 0, 0,                       #Oportunidades\n",
    "          1, 1, 1, 2, 2, 2, 3, 3, 3,     # Codigo Burocratico\n",
    "          4, 4, 5, 5, 6, 6,              # Terminos de entrega\n",
    "          7, 8                           # Exito o Fracaso\n",
    "]                         \n",
    "target = [\n",
    "          1, 2, 3,\n",
    "          4, 5, 6, 4, 5, 6, 4, 5, 6,\n",
    "          7, 8, 7, 8, 7, 8\n",
    "]\n",
    "\n",
    "value = [\n",
    "oportunidades[2], oportunidades[0], oportunidades[1],                       #De Oportunidades a Burocraticos\n",
    "buro_aprobado[2], buro_aprobado[0], buro_aprobado[1],                       #De Burocraticos aprobados a Terminos \n",
    "buro_no_necesario[2], buro_no_necesario[0], buro_no_necesario[1],           #De Burocraticos no necesarios a Terminos \n",
    "buro_no_aprobado[2], buro_no_aprobado[0], buro_no_aprobado[1],              #De Burocraticos no aprobados a Terminos\n",
    "termino_aprobado[0], termino_aprobado[1],                                   #De Terminos aprobados a Resultado\n",
    "termino_no_necesario[0], termino_no_necesario[1],                           #De Terminos no necesarios a Resultado\n",
    "termino_no_aprobado[0], termino_no_aprobado[1]                              #De Terminos no aprobados a Resultado\n",
    "\n",
    "]              \n",
    "\n",
    "label = [\n",
    "\n",
    "'Oportunidades',\n",
    "'Burocraticos aprobados', \n",
    "'Burocratico no necesarios', \n",
    "'Burocratico no aprobados', \n",
    "'Terminos aprobados', \n",
    "'Terminos no necesarios', \n",
    "'Terminos no aprobados',\n",
    "'Exito',\n",
    "'Fracaso'\n",
    "\n",
    "]\n",
    "\n",
    "\n",
    "color_node = [\n",
    "\n",
    "'#645e61',                          #Nodo Oportunidades\n",
    "'#645e61', '#645e61', '#645e61',    #Nodos Burocraticos\n",
    "'#645e61', '#645e61', '#645e61',    #Nodos Terminos\n",
    "'#645e61', '#645e61'                #Nodos resultados\n",
    "\n",
    "]\n",
    "\n",
    "\n",
    "color_link = [\n",
    "\n",
    "'#85c1e9', '#85c1e9', '#85c1e9',    #De oportunidades a Burocraticos\n",
    "'#A6E3D7', '#A6E3D7', '#A6E3D7',    #De Burocraticos aprobados a Terminos\n",
    "'#FEF3C7', '#FEF3C7', '#FEF3C7',    #De Burocraticos no necesarios a Terminos\n",
    "'#EBBAB5', '#EBBAB5', '#EBBAB5',    #De Burocraticos no aprobados a Terminos\n",
    "'#afe5ef', '#afe5ef',               #De Terminos aprobados a resultado\n",
    "'#abeca8', '#abeca8',               #De Terminos no necesarios a resultado\n",
    "'#f0bbd2', '#f0bbd2',               #De Terminos no aprobados a resultado\n",
    "\n",
    "]\n",
    "\n"
   ]
  },
  {
   "cell_type": "code",
   "execution_count": 14,
   "metadata": {},
   "outputs": [
    {
     "output_type": "display_data",
     "data": {
      "application/vnd.plotly.v1+json": {
       "config": {
        "plotlyServerURL": "https://plot.ly"
       },
       "data": [
        {
         "link": {
          "color": [
           "#85c1e9",
           "#85c1e9",
           "#85c1e9",
           "#A6E3D7",
           "#A6E3D7",
           "#A6E3D7",
           "#FEF3C7",
           "#FEF3C7",
           "#FEF3C7",
           "#EBBAB5",
           "#EBBAB5",
           "#EBBAB5",
           "#afe5ef",
           "#afe5ef",
           "#abeca8",
           "#abeca8",
           "#f0bbd2",
           "#f0bbd2"
          ],
          "source": [
           0,
           0,
           0,
           1,
           1,
           1,
           2,
           2,
           2,
           3,
           3,
           3,
           4,
           4,
           5,
           5,
           6,
           6,
           7,
           8
          ],
          "target": [
           1,
           2,
           3,
           4,
           5,
           6,
           4,
           5,
           6,
           4,
           5,
           6,
           7,
           8,
           7,
           8,
           7,
           8
          ],
          "value": [
           0.31887649731515905,
           0.5245176137369446,
           0.15660588894789637,
           [
            0.9950037009622502
           ],
           [
            0.0016654330125832717
           ],
           [
            0.0033308660251665434
           ],
           [
            0.48138148273146586
           ],
           [
            0.36415794802564966
           ],
           [
            0.15446056924288445
           ],
           [
            0.08816880180859081
           ],
           [
            0.003014318010550113
           ],
           [
            0.908816880180859
           ],
           [
            0.6475227502527806
           ],
           [
            0.3524772497472194
           ],
           [
            0.6508912108174555
           ],
           [
            0.3491087891825445
           ],
           [
            0.2658427557191691
           ],
           [
            0.7341572442808308
           ]
          ]
         },
         "node": {
          "color": [
           "#645e61",
           "#645e61",
           "#645e61",
           "#645e61",
           "#645e61",
           "#645e61",
           "#645e61",
           "#645e61",
           "#645e61"
          ],
          "label": [
           "Oportunidades",
           "Burocraticos aprobados",
           "Burocratico no necesarios",
           "Burocratico no aprobados",
           "Terminos aprobados",
           "Terminos no necesarios",
           "Terminos no aprobados",
           "Exito",
           "Fracaso"
          ],
          "pad": 50,
          "thickness": 5
         },
         "type": "sankey"
        }
       ],
       "layout": {
        "font": {
         "color": "Black",
         "family": "Arial, monospace",
         "size": 18
        },
        "height": 600,
        "template": {
         "data": {
          "bar": [
           {
            "error_x": {
             "color": "#2a3f5f"
            },
            "error_y": {
             "color": "#2a3f5f"
            },
            "marker": {
             "line": {
              "color": "#E5ECF6",
              "width": 0.5
             }
            },
            "type": "bar"
           }
          ],
          "barpolar": [
           {
            "marker": {
             "line": {
              "color": "#E5ECF6",
              "width": 0.5
             }
            },
            "type": "barpolar"
           }
          ],
          "carpet": [
           {
            "aaxis": {
             "endlinecolor": "#2a3f5f",
             "gridcolor": "white",
             "linecolor": "white",
             "minorgridcolor": "white",
             "startlinecolor": "#2a3f5f"
            },
            "baxis": {
             "endlinecolor": "#2a3f5f",
             "gridcolor": "white",
             "linecolor": "white",
             "minorgridcolor": "white",
             "startlinecolor": "#2a3f5f"
            },
            "type": "carpet"
           }
          ],
          "choropleth": [
           {
            "colorbar": {
             "outlinewidth": 0,
             "ticks": ""
            },
            "type": "choropleth"
           }
          ],
          "contour": [
           {
            "colorbar": {
             "outlinewidth": 0,
             "ticks": ""
            },
            "colorscale": [
             [
              0,
              "#0d0887"
             ],
             [
              0.1111111111111111,
              "#46039f"
             ],
             [
              0.2222222222222222,
              "#7201a8"
             ],
             [
              0.3333333333333333,
              "#9c179e"
             ],
             [
              0.4444444444444444,
              "#bd3786"
             ],
             [
              0.5555555555555556,
              "#d8576b"
             ],
             [
              0.6666666666666666,
              "#ed7953"
             ],
             [
              0.7777777777777778,
              "#fb9f3a"
             ],
             [
              0.8888888888888888,
              "#fdca26"
             ],
             [
              1,
              "#f0f921"
             ]
            ],
            "type": "contour"
           }
          ],
          "contourcarpet": [
           {
            "colorbar": {
             "outlinewidth": 0,
             "ticks": ""
            },
            "type": "contourcarpet"
           }
          ],
          "heatmap": [
           {
            "colorbar": {
             "outlinewidth": 0,
             "ticks": ""
            },
            "colorscale": [
             [
              0,
              "#0d0887"
             ],
             [
              0.1111111111111111,
              "#46039f"
             ],
             [
              0.2222222222222222,
              "#7201a8"
             ],
             [
              0.3333333333333333,
              "#9c179e"
             ],
             [
              0.4444444444444444,
              "#bd3786"
             ],
             [
              0.5555555555555556,
              "#d8576b"
             ],
             [
              0.6666666666666666,
              "#ed7953"
             ],
             [
              0.7777777777777778,
              "#fb9f3a"
             ],
             [
              0.8888888888888888,
              "#fdca26"
             ],
             [
              1,
              "#f0f921"
             ]
            ],
            "type": "heatmap"
           }
          ],
          "heatmapgl": [
           {
            "colorbar": {
             "outlinewidth": 0,
             "ticks": ""
            },
            "colorscale": [
             [
              0,
              "#0d0887"
             ],
             [
              0.1111111111111111,
              "#46039f"
             ],
             [
              0.2222222222222222,
              "#7201a8"
             ],
             [
              0.3333333333333333,
              "#9c179e"
             ],
             [
              0.4444444444444444,
              "#bd3786"
             ],
             [
              0.5555555555555556,
              "#d8576b"
             ],
             [
              0.6666666666666666,
              "#ed7953"
             ],
             [
              0.7777777777777778,
              "#fb9f3a"
             ],
             [
              0.8888888888888888,
              "#fdca26"
             ],
             [
              1,
              "#f0f921"
             ]
            ],
            "type": "heatmapgl"
           }
          ],
          "histogram": [
           {
            "marker": {
             "colorbar": {
              "outlinewidth": 0,
              "ticks": ""
             }
            },
            "type": "histogram"
           }
          ],
          "histogram2d": [
           {
            "colorbar": {
             "outlinewidth": 0,
             "ticks": ""
            },
            "colorscale": [
             [
              0,
              "#0d0887"
             ],
             [
              0.1111111111111111,
              "#46039f"
             ],
             [
              0.2222222222222222,
              "#7201a8"
             ],
             [
              0.3333333333333333,
              "#9c179e"
             ],
             [
              0.4444444444444444,
              "#bd3786"
             ],
             [
              0.5555555555555556,
              "#d8576b"
             ],
             [
              0.6666666666666666,
              "#ed7953"
             ],
             [
              0.7777777777777778,
              "#fb9f3a"
             ],
             [
              0.8888888888888888,
              "#fdca26"
             ],
             [
              1,
              "#f0f921"
             ]
            ],
            "type": "histogram2d"
           }
          ],
          "histogram2dcontour": [
           {
            "colorbar": {
             "outlinewidth": 0,
             "ticks": ""
            },
            "colorscale": [
             [
              0,
              "#0d0887"
             ],
             [
              0.1111111111111111,
              "#46039f"
             ],
             [
              0.2222222222222222,
              "#7201a8"
             ],
             [
              0.3333333333333333,
              "#9c179e"
             ],
             [
              0.4444444444444444,
              "#bd3786"
             ],
             [
              0.5555555555555556,
              "#d8576b"
             ],
             [
              0.6666666666666666,
              "#ed7953"
             ],
             [
              0.7777777777777778,
              "#fb9f3a"
             ],
             [
              0.8888888888888888,
              "#fdca26"
             ],
             [
              1,
              "#f0f921"
             ]
            ],
            "type": "histogram2dcontour"
           }
          ],
          "mesh3d": [
           {
            "colorbar": {
             "outlinewidth": 0,
             "ticks": ""
            },
            "type": "mesh3d"
           }
          ],
          "parcoords": [
           {
            "line": {
             "colorbar": {
              "outlinewidth": 0,
              "ticks": ""
             }
            },
            "type": "parcoords"
           }
          ],
          "scatter": [
           {
            "marker": {
             "colorbar": {
              "outlinewidth": 0,
              "ticks": ""
             }
            },
            "type": "scatter"
           }
          ],
          "scatter3d": [
           {
            "line": {
             "colorbar": {
              "outlinewidth": 0,
              "ticks": ""
             }
            },
            "marker": {
             "colorbar": {
              "outlinewidth": 0,
              "ticks": ""
             }
            },
            "type": "scatter3d"
           }
          ],
          "scattercarpet": [
           {
            "marker": {
             "colorbar": {
              "outlinewidth": 0,
              "ticks": ""
             }
            },
            "type": "scattercarpet"
           }
          ],
          "scattergeo": [
           {
            "marker": {
             "colorbar": {
              "outlinewidth": 0,
              "ticks": ""
             }
            },
            "type": "scattergeo"
           }
          ],
          "scattergl": [
           {
            "marker": {
             "colorbar": {
              "outlinewidth": 0,
              "ticks": ""
             }
            },
            "type": "scattergl"
           }
          ],
          "scattermapbox": [
           {
            "marker": {
             "colorbar": {
              "outlinewidth": 0,
              "ticks": ""
             }
            },
            "type": "scattermapbox"
           }
          ],
          "scatterpolar": [
           {
            "marker": {
             "colorbar": {
              "outlinewidth": 0,
              "ticks": ""
             }
            },
            "type": "scatterpolar"
           }
          ],
          "scatterpolargl": [
           {
            "marker": {
             "colorbar": {
              "outlinewidth": 0,
              "ticks": ""
             }
            },
            "type": "scatterpolargl"
           }
          ],
          "scatterternary": [
           {
            "marker": {
             "colorbar": {
              "outlinewidth": 0,
              "ticks": ""
             }
            },
            "type": "scatterternary"
           }
          ],
          "surface": [
           {
            "colorbar": {
             "outlinewidth": 0,
             "ticks": ""
            },
            "colorscale": [
             [
              0,
              "#0d0887"
             ],
             [
              0.1111111111111111,
              "#46039f"
             ],
             [
              0.2222222222222222,
              "#7201a8"
             ],
             [
              0.3333333333333333,
              "#9c179e"
             ],
             [
              0.4444444444444444,
              "#bd3786"
             ],
             [
              0.5555555555555556,
              "#d8576b"
             ],
             [
              0.6666666666666666,
              "#ed7953"
             ],
             [
              0.7777777777777778,
              "#fb9f3a"
             ],
             [
              0.8888888888888888,
              "#fdca26"
             ],
             [
              1,
              "#f0f921"
             ]
            ],
            "type": "surface"
           }
          ],
          "table": [
           {
            "cells": {
             "fill": {
              "color": "#EBF0F8"
             },
             "line": {
              "color": "white"
             }
            },
            "header": {
             "fill": {
              "color": "#C8D4E3"
             },
             "line": {
              "color": "white"
             }
            },
            "type": "table"
           }
          ]
         },
         "layout": {
          "annotationdefaults": {
           "arrowcolor": "#2a3f5f",
           "arrowhead": 0,
           "arrowwidth": 1
          },
          "colorscale": {
           "diverging": [
            [
             0,
             "#8e0152"
            ],
            [
             0.1,
             "#c51b7d"
            ],
            [
             0.2,
             "#de77ae"
            ],
            [
             0.3,
             "#f1b6da"
            ],
            [
             0.4,
             "#fde0ef"
            ],
            [
             0.5,
             "#f7f7f7"
            ],
            [
             0.6,
             "#e6f5d0"
            ],
            [
             0.7,
             "#b8e186"
            ],
            [
             0.8,
             "#7fbc41"
            ],
            [
             0.9,
             "#4d9221"
            ],
            [
             1,
             "#276419"
            ]
           ],
           "sequential": [
            [
             0,
             "#0d0887"
            ],
            [
             0.1111111111111111,
             "#46039f"
            ],
            [
             0.2222222222222222,
             "#7201a8"
            ],
            [
             0.3333333333333333,
             "#9c179e"
            ],
            [
             0.4444444444444444,
             "#bd3786"
            ],
            [
             0.5555555555555556,
             "#d8576b"
            ],
            [
             0.6666666666666666,
             "#ed7953"
            ],
            [
             0.7777777777777778,
             "#fb9f3a"
            ],
            [
             0.8888888888888888,
             "#fdca26"
            ],
            [
             1,
             "#f0f921"
            ]
           ],
           "sequentialminus": [
            [
             0,
             "#0d0887"
            ],
            [
             0.1111111111111111,
             "#46039f"
            ],
            [
             0.2222222222222222,
             "#7201a8"
            ],
            [
             0.3333333333333333,
             "#9c179e"
            ],
            [
             0.4444444444444444,
             "#bd3786"
            ],
            [
             0.5555555555555556,
             "#d8576b"
            ],
            [
             0.6666666666666666,
             "#ed7953"
            ],
            [
             0.7777777777777778,
             "#fb9f3a"
            ],
            [
             0.8888888888888888,
             "#fdca26"
            ],
            [
             1,
             "#f0f921"
            ]
           ]
          },
          "colorway": [
           "#636efa",
           "#EF553B",
           "#00cc96",
           "#ab63fa",
           "#FFA15A",
           "#19d3f3",
           "#FF6692",
           "#B6E880",
           "#FF97FF",
           "#FECB52"
          ],
          "font": {
           "color": "#2a3f5f"
          },
          "geo": {
           "bgcolor": "white",
           "lakecolor": "white",
           "landcolor": "#E5ECF6",
           "showlakes": true,
           "showland": true,
           "subunitcolor": "white"
          },
          "hoverlabel": {
           "align": "left"
          },
          "hovermode": "closest",
          "mapbox": {
           "style": "light"
          },
          "paper_bgcolor": "white",
          "plot_bgcolor": "#E5ECF6",
          "polar": {
           "angularaxis": {
            "gridcolor": "white",
            "linecolor": "white",
            "ticks": ""
           },
           "bgcolor": "#E5ECF6",
           "radialaxis": {
            "gridcolor": "white",
            "linecolor": "white",
            "ticks": ""
           }
          },
          "scene": {
           "xaxis": {
            "backgroundcolor": "#E5ECF6",
            "gridcolor": "white",
            "gridwidth": 2,
            "linecolor": "white",
            "showbackground": true,
            "ticks": "",
            "zerolinecolor": "white"
           },
           "yaxis": {
            "backgroundcolor": "#E5ECF6",
            "gridcolor": "white",
            "gridwidth": 2,
            "linecolor": "white",
            "showbackground": true,
            "ticks": "",
            "zerolinecolor": "white"
           },
           "zaxis": {
            "backgroundcolor": "#E5ECF6",
            "gridcolor": "white",
            "gridwidth": 2,
            "linecolor": "white",
            "showbackground": true,
            "ticks": "",
            "zerolinecolor": "white"
           }
          },
          "shapedefaults": {
           "line": {
            "color": "#2a3f5f"
           }
          },
          "ternary": {
           "aaxis": {
            "gridcolor": "white",
            "linecolor": "white",
            "ticks": ""
           },
           "baxis": {
            "gridcolor": "white",
            "linecolor": "white",
            "ticks": ""
           },
           "bgcolor": "#E5ECF6",
           "caxis": {
            "gridcolor": "white",
            "linecolor": "white",
            "ticks": ""
           }
          },
          "title": {
           "x": 0.05
          },
          "xaxis": {
           "automargin": true,
           "gridcolor": "white",
           "linecolor": "white",
           "ticks": "",
           "zerolinecolor": "white",
           "zerolinewidth": 2
          },
          "yaxis": {
           "automargin": true,
           "gridcolor": "white",
           "linecolor": "white",
           "ticks": "",
           "zerolinecolor": "white",
           "zerolinewidth": 2
          }
         }
        },
        "title": {
         "text": "Distribucion de las oportunidades segun aprobacion burocratica, terminos y exito",
         "x": 0.5,
         "xanchor": "center",
         "y": 0.95,
         "yanchor": "top"
        },
        "width": 1200
       }
      }
     },
     "metadata": {}
    }
   ],
   "source": [
    "link = dict(source = source, target = target, value = value, color = color_link)\n",
    "node = dict(label = label, pad=50, thickness=5, color = color_node)\n",
    "data = go.Sankey(link = link, node=node)\n",
    "fig = go.Figure(data)\n",
    "\n",
    "fig.update_layout(\n",
    "    font=dict(\n",
    "        family=\"Arial, monospace\",\n",
    "        size=18,\n",
    "        color=\"Black\"\n",
    "    ),\n",
    "    title={\n",
    "        'text': \"Distribucion de las oportunidades segun aprobacion burocratica, terminos y exito\",\n",
    "        'y':0.95,\n",
    "        'x':0.5,\n",
    "        'xanchor': 'center',\n",
    "        'yanchor': 'top'},\n",
    "    width=1200, \n",
    "    height=600\n",
    ")\n",
    "\n",
    "fig.show()"
   ]
  },
  {
   "cell_type": "code",
   "execution_count": null,
   "metadata": {},
   "outputs": [],
   "source": []
  }
 ]
}